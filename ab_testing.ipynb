{
  "metadata": {
    "kernelspec": {
      "language": "python",
      "display_name": "Python 3",
      "name": "python3"
    },
    "language_info": {
      "name": "python",
      "version": "3.7.12",
      "mimetype": "text/x-python",
      "codemirror_mode": {
        "name": "ipython",
        "version": 3
      },
      "pygments_lexer": "ipython3",
      "nbconvert_exporter": "python",
      "file_extension": ".py"
    },
    "colab": {
      "name": "ab_testing.ipynb",
      "provenance": [],
      "include_colab_link": true
    }
  },
  "nbformat_minor": 0,
  "nbformat": 4,
  "cells": [
    {
      "cell_type": "markdown",
      "metadata": {
        "id": "view-in-github",
        "colab_type": "text"
      },
      "source": [
        "<a href=\"https://colab.research.google.com/github/KelvinLam05/ab_testing/blob/main/ab_testing.ipynb\" target=\"_parent\"><img src=\"https://colab.research.google.com/assets/colab-badge.svg\" alt=\"Open In Colab\"/></a>"
      ]
    },
    {
      "cell_type": "markdown",
      "source": [
        "**Goal of the project**"
      ],
      "metadata": {
        "id": "lObo7lh59JKv"
      }
    },
    {
      "cell_type": "markdown",
      "source": [
        "In this project, we will be working to understand the results of an A/B test run by an e-commerce website. The company has developed a new web page in order to try and increase the number of users who \"convert,\" meaning the number of users who decide to pay for the company's product. Our goal is to work through this project to help the company understand if they should implement this new page, keep the old page, or perhaps run the experiment longer to make their decision."
      ],
      "metadata": {
        "id": "k2MdgDDd68Za"
      }
    },
    {
      "cell_type": "markdown",
      "source": [
        "**Formulating a hypothesis**"
      ],
      "metadata": {
        "id": "fhtfeMfTUFZt"
      }
    },
    {
      "cell_type": "markdown",
      "source": [
        "A/B test was performed under the assumption that the old page yields a larger convert rate than the new page unless the new page proves to definitely yield a larger convert rate at a Type I error rate of 5%. Based on this assumption,\n",
        "\n",
        "* for the null hypothesis, the probability of all users who convert from landing on the old page is greater than or equal to the probability of all users who convert from landing on the new page.\n",
        "\n",
        "* for the alternative hypothesis, the probability of all users who convert from landing on the new page is greater than or equal to the probability of all users who convert from landing on the old page.\n",
        "\n",
        "<center>$ H_{0}: p ≥ p_{0} $<center>\n",
        "\n",
        "<center>$ H_{1}: p < p_{0} $<center>"
      ],
      "metadata": {
        "id": "7zMGI32dUJRF"
      }
    },
    {
      "cell_type": "markdown",
      "source": [
        "**Choosing the variables**"
      ],
      "metadata": {
        "id": "LaddT2fX9Svz"
      }
    },
    {
      "cell_type": "markdown",
      "source": [
        "For our test we’ll need two groups:\n",
        "\n",
        "* A control group - They'll be shown the old design\n",
        "\n",
        "* A treatment (or experimental) group - They'll be shown the new design\n",
        "\n",
        "This will be our **independent variable**. The reason we have two groups is that we want to control for other variables that could have an effect on our results, such as seasonality: by having a control group we can directly compare their results to the treatment group, because the only systematic difference between the groups is the design of the product page, and we can therefore attribute any differences in results to the designs.\n",
        "\n",
        "For our **dependent variable** (i.e. what we are trying to measure), we are interested in capturing the conversion rate. A way we can code this is by each user session with a binary variable:\n",
        "\n",
        "* 0 - The user did not buy the product during this user session\n",
        "\n",
        "* 1 - The user bought the product during this user session"
      ],
      "metadata": {
        "id": "QALNeor5-gcj"
      }
    },
    {
      "cell_type": "markdown",
      "source": [
        "**Collecting the data**"
      ],
      "metadata": {
        "id": "X9OhMa0sy9wm"
      }
    },
    {
      "cell_type": "code",
      "source": [
        "# Importing libraries\n",
        "import pandas as pd\n",
        "import numpy as np"
      ],
      "metadata": {
        "id": "36_KiuS2XvV8",
        "execution": {
          "iopub.status.busy": "2022-08-28T15:40:58.099118Z",
          "iopub.execute_input": "2022-08-28T15:40:58.099507Z",
          "iopub.status.idle": "2022-08-28T15:40:58.104630Z",
          "shell.execute_reply.started": "2022-08-28T15:40:58.099476Z",
          "shell.execute_reply": "2022-08-28T15:40:58.103451Z"
        },
        "trusted": true
      },
      "execution_count": 1,
      "outputs": []
    },
    {
      "cell_type": "code",
      "source": [
        "# Load dataset\n",
        "df = pd.read_csv('/content/ab_data.csv')"
      ],
      "metadata": {
        "id": "LJZ58ZxHk7OZ",
        "execution": {
          "iopub.status.busy": "2022-08-28T15:40:58.106728Z",
          "iopub.execute_input": "2022-08-28T15:40:58.107121Z",
          "iopub.status.idle": "2022-08-28T15:40:58.515472Z",
          "shell.execute_reply.started": "2022-08-28T15:40:58.107089Z",
          "shell.execute_reply": "2022-08-28T15:40:58.514515Z"
        },
        "trusted": true
      },
      "execution_count": 2,
      "outputs": []
    },
    {
      "cell_type": "code",
      "source": [
        "# Examine the data\n",
        "df.head()"
      ],
      "metadata": {
        "id": "L4KCGRDbYd7w",
        "outputId": "8c1636e2-6004-492b-ade6-1bd33103fa3a",
        "execution": {
          "iopub.status.busy": "2022-08-28T15:40:58.517524Z",
          "iopub.execute_input": "2022-08-28T15:40:58.517970Z",
          "iopub.status.idle": "2022-08-28T15:40:58.531313Z",
          "shell.execute_reply.started": "2022-08-28T15:40:58.517928Z",
          "shell.execute_reply": "2022-08-28T15:40:58.529880Z"
        },
        "trusted": true,
        "colab": {
          "base_uri": "https://localhost:8080/",
          "height": 204
        }
      },
      "execution_count": 3,
      "outputs": [
        {
          "output_type": "execute_result",
          "data": {
            "text/plain": [
              "   user_id                   timestamp      group landing_page  converted\n",
              "0   851104  2017-01-21 22:11:48.556739    control     old_page          0\n",
              "1   804228  2017-01-12 08:01:45.159739    control     old_page          0\n",
              "2   661590  2017-01-11 16:55:06.154213  treatment     new_page          0\n",
              "3   853541  2017-01-08 18:28:03.143765  treatment     new_page          0\n",
              "4   864975  2017-01-21 01:52:26.210827    control     old_page          1"
            ],
            "text/html": [
              "\n",
              "  <div id=\"df-9fa273e3-6e0c-4e68-bd9f-9369dd788d2d\">\n",
              "    <div class=\"colab-df-container\">\n",
              "      <div>\n",
              "<style scoped>\n",
              "    .dataframe tbody tr th:only-of-type {\n",
              "        vertical-align: middle;\n",
              "    }\n",
              "\n",
              "    .dataframe tbody tr th {\n",
              "        vertical-align: top;\n",
              "    }\n",
              "\n",
              "    .dataframe thead th {\n",
              "        text-align: right;\n",
              "    }\n",
              "</style>\n",
              "<table border=\"1\" class=\"dataframe\">\n",
              "  <thead>\n",
              "    <tr style=\"text-align: right;\">\n",
              "      <th></th>\n",
              "      <th>user_id</th>\n",
              "      <th>timestamp</th>\n",
              "      <th>group</th>\n",
              "      <th>landing_page</th>\n",
              "      <th>converted</th>\n",
              "    </tr>\n",
              "  </thead>\n",
              "  <tbody>\n",
              "    <tr>\n",
              "      <th>0</th>\n",
              "      <td>851104</td>\n",
              "      <td>2017-01-21 22:11:48.556739</td>\n",
              "      <td>control</td>\n",
              "      <td>old_page</td>\n",
              "      <td>0</td>\n",
              "    </tr>\n",
              "    <tr>\n",
              "      <th>1</th>\n",
              "      <td>804228</td>\n",
              "      <td>2017-01-12 08:01:45.159739</td>\n",
              "      <td>control</td>\n",
              "      <td>old_page</td>\n",
              "      <td>0</td>\n",
              "    </tr>\n",
              "    <tr>\n",
              "      <th>2</th>\n",
              "      <td>661590</td>\n",
              "      <td>2017-01-11 16:55:06.154213</td>\n",
              "      <td>treatment</td>\n",
              "      <td>new_page</td>\n",
              "      <td>0</td>\n",
              "    </tr>\n",
              "    <tr>\n",
              "      <th>3</th>\n",
              "      <td>853541</td>\n",
              "      <td>2017-01-08 18:28:03.143765</td>\n",
              "      <td>treatment</td>\n",
              "      <td>new_page</td>\n",
              "      <td>0</td>\n",
              "    </tr>\n",
              "    <tr>\n",
              "      <th>4</th>\n",
              "      <td>864975</td>\n",
              "      <td>2017-01-21 01:52:26.210827</td>\n",
              "      <td>control</td>\n",
              "      <td>old_page</td>\n",
              "      <td>1</td>\n",
              "    </tr>\n",
              "  </tbody>\n",
              "</table>\n",
              "</div>\n",
              "      <button class=\"colab-df-convert\" onclick=\"convertToInteractive('df-9fa273e3-6e0c-4e68-bd9f-9369dd788d2d')\"\n",
              "              title=\"Convert this dataframe to an interactive table.\"\n",
              "              style=\"display:none;\">\n",
              "        \n",
              "  <svg xmlns=\"http://www.w3.org/2000/svg\" height=\"24px\"viewBox=\"0 0 24 24\"\n",
              "       width=\"24px\">\n",
              "    <path d=\"M0 0h24v24H0V0z\" fill=\"none\"/>\n",
              "    <path d=\"M18.56 5.44l.94 2.06.94-2.06 2.06-.94-2.06-.94-.94-2.06-.94 2.06-2.06.94zm-11 1L8.5 8.5l.94-2.06 2.06-.94-2.06-.94L8.5 2.5l-.94 2.06-2.06.94zm10 10l.94 2.06.94-2.06 2.06-.94-2.06-.94-.94-2.06-.94 2.06-2.06.94z\"/><path d=\"M17.41 7.96l-1.37-1.37c-.4-.4-.92-.59-1.43-.59-.52 0-1.04.2-1.43.59L10.3 9.45l-7.72 7.72c-.78.78-.78 2.05 0 2.83L4 21.41c.39.39.9.59 1.41.59.51 0 1.02-.2 1.41-.59l7.78-7.78 2.81-2.81c.8-.78.8-2.07 0-2.86zM5.41 20L4 18.59l7.72-7.72 1.47 1.35L5.41 20z\"/>\n",
              "  </svg>\n",
              "      </button>\n",
              "      \n",
              "  <style>\n",
              "    .colab-df-container {\n",
              "      display:flex;\n",
              "      flex-wrap:wrap;\n",
              "      gap: 12px;\n",
              "    }\n",
              "\n",
              "    .colab-df-convert {\n",
              "      background-color: #E8F0FE;\n",
              "      border: none;\n",
              "      border-radius: 50%;\n",
              "      cursor: pointer;\n",
              "      display: none;\n",
              "      fill: #1967D2;\n",
              "      height: 32px;\n",
              "      padding: 0 0 0 0;\n",
              "      width: 32px;\n",
              "    }\n",
              "\n",
              "    .colab-df-convert:hover {\n",
              "      background-color: #E2EBFA;\n",
              "      box-shadow: 0px 1px 2px rgba(60, 64, 67, 0.3), 0px 1px 3px 1px rgba(60, 64, 67, 0.15);\n",
              "      fill: #174EA6;\n",
              "    }\n",
              "\n",
              "    [theme=dark] .colab-df-convert {\n",
              "      background-color: #3B4455;\n",
              "      fill: #D2E3FC;\n",
              "    }\n",
              "\n",
              "    [theme=dark] .colab-df-convert:hover {\n",
              "      background-color: #434B5C;\n",
              "      box-shadow: 0px 1px 3px 1px rgba(0, 0, 0, 0.15);\n",
              "      filter: drop-shadow(0px 1px 2px rgba(0, 0, 0, 0.3));\n",
              "      fill: #FFFFFF;\n",
              "    }\n",
              "  </style>\n",
              "\n",
              "      <script>\n",
              "        const buttonEl =\n",
              "          document.querySelector('#df-9fa273e3-6e0c-4e68-bd9f-9369dd788d2d button.colab-df-convert');\n",
              "        buttonEl.style.display =\n",
              "          google.colab.kernel.accessAllowed ? 'block' : 'none';\n",
              "\n",
              "        async function convertToInteractive(key) {\n",
              "          const element = document.querySelector('#df-9fa273e3-6e0c-4e68-bd9f-9369dd788d2d');\n",
              "          const dataTable =\n",
              "            await google.colab.kernel.invokeFunction('convertToInteractive',\n",
              "                                                     [key], {});\n",
              "          if (!dataTable) return;\n",
              "\n",
              "          const docLinkHtml = 'Like what you see? Visit the ' +\n",
              "            '<a target=\"_blank\" href=https://colab.research.google.com/notebooks/data_table.ipynb>data table notebook</a>'\n",
              "            + ' to learn more about interactive tables.';\n",
              "          element.innerHTML = '';\n",
              "          dataTable['output_type'] = 'display_data';\n",
              "          await google.colab.output.renderOutput(dataTable, element);\n",
              "          const docLink = document.createElement('div');\n",
              "          docLink.innerHTML = docLinkHtml;\n",
              "          element.appendChild(docLink);\n",
              "        }\n",
              "      </script>\n",
              "    </div>\n",
              "  </div>\n",
              "  "
            ]
          },
          "metadata": {},
          "execution_count": 3
        }
      ]
    },
    {
      "cell_type": "code",
      "source": [
        "# Overview of all variables, their datatypes\n",
        "df.info()"
      ],
      "metadata": {
        "id": "NgSPpVhIZk7m",
        "outputId": "5d64e1c3-97d8-4bec-ac85-f1cbd8e6ab1b",
        "execution": {
          "iopub.status.busy": "2022-08-28T15:40:58.535129Z",
          "iopub.execute_input": "2022-08-28T15:40:58.535465Z",
          "iopub.status.idle": "2022-08-28T15:40:58.588610Z",
          "shell.execute_reply.started": "2022-08-28T15:40:58.535429Z",
          "shell.execute_reply": "2022-08-28T15:40:58.587708Z"
        },
        "trusted": true,
        "colab": {
          "base_uri": "https://localhost:8080/"
        }
      },
      "execution_count": 4,
      "outputs": [
        {
          "output_type": "stream",
          "name": "stdout",
          "text": [
            "<class 'pandas.core.frame.DataFrame'>\n",
            "RangeIndex: 294478 entries, 0 to 294477\n",
            "Data columns (total 5 columns):\n",
            " #   Column        Non-Null Count   Dtype \n",
            "---  ------        --------------   ----- \n",
            " 0   user_id       294478 non-null  int64 \n",
            " 1   timestamp     294478 non-null  object\n",
            " 2   group         294478 non-null  object\n",
            " 3   landing_page  294478 non-null  object\n",
            " 4   converted     294478 non-null  int64 \n",
            "dtypes: int64(2), object(3)\n",
            "memory usage: 11.2+ MB\n"
          ]
        }
      ]
    },
    {
      "cell_type": "markdown",
      "source": [
        "**Preparing the data**"
      ],
      "metadata": {
        "id": "nI3UISvpzG4-"
      }
    },
    {
      "cell_type": "code",
      "source": [
        "df['group'].value_counts()"
      ],
      "metadata": {
        "id": "99Ry7Vhm469p",
        "outputId": "da27d2c2-d88c-46a2-843e-c39b4d6b801c",
        "execution": {
          "iopub.status.busy": "2022-08-28T15:40:58.589995Z",
          "iopub.execute_input": "2022-08-28T15:40:58.590314Z",
          "iopub.status.idle": "2022-08-28T15:40:58.615977Z",
          "shell.execute_reply.started": "2022-08-28T15:40:58.590284Z",
          "shell.execute_reply": "2022-08-28T15:40:58.614831Z"
        },
        "trusted": true,
        "colab": {
          "base_uri": "https://localhost:8080/"
        }
      },
      "execution_count": 5,
      "outputs": [
        {
          "output_type": "execute_result",
          "data": {
            "text/plain": [
              "treatment    147276\n",
              "control      147202\n",
              "Name: group, dtype: int64"
            ]
          },
          "metadata": {},
          "execution_count": 5
        }
      ]
    },
    {
      "cell_type": "code",
      "source": [
        "pd.crosstab(df['group'], df['landing_page'])"
      ],
      "metadata": {
        "id": "RnLeKv1lzffg",
        "outputId": "86e099b7-6f61-4381-a82b-9859c1610129",
        "execution": {
          "iopub.status.busy": "2022-08-28T15:40:58.617351Z",
          "iopub.execute_input": "2022-08-28T15:40:58.618211Z",
          "iopub.status.idle": "2022-08-28T15:40:58.709594Z",
          "shell.execute_reply.started": "2022-08-28T15:40:58.618176Z",
          "shell.execute_reply": "2022-08-28T15:40:58.708830Z"
        },
        "trusted": true,
        "colab": {
          "base_uri": "https://localhost:8080/",
          "height": 142
        }
      },
      "execution_count": 6,
      "outputs": [
        {
          "output_type": "execute_result",
          "data": {
            "text/plain": [
              "landing_page  new_page  old_page\n",
              "group                           \n",
              "control           1928    145274\n",
              "treatment       145311      1965"
            ],
            "text/html": [
              "\n",
              "  <div id=\"df-d807ee1d-27e6-4c80-946e-041272a53ad9\">\n",
              "    <div class=\"colab-df-container\">\n",
              "      <div>\n",
              "<style scoped>\n",
              "    .dataframe tbody tr th:only-of-type {\n",
              "        vertical-align: middle;\n",
              "    }\n",
              "\n",
              "    .dataframe tbody tr th {\n",
              "        vertical-align: top;\n",
              "    }\n",
              "\n",
              "    .dataframe thead th {\n",
              "        text-align: right;\n",
              "    }\n",
              "</style>\n",
              "<table border=\"1\" class=\"dataframe\">\n",
              "  <thead>\n",
              "    <tr style=\"text-align: right;\">\n",
              "      <th>landing_page</th>\n",
              "      <th>new_page</th>\n",
              "      <th>old_page</th>\n",
              "    </tr>\n",
              "    <tr>\n",
              "      <th>group</th>\n",
              "      <th></th>\n",
              "      <th></th>\n",
              "    </tr>\n",
              "  </thead>\n",
              "  <tbody>\n",
              "    <tr>\n",
              "      <th>control</th>\n",
              "      <td>1928</td>\n",
              "      <td>145274</td>\n",
              "    </tr>\n",
              "    <tr>\n",
              "      <th>treatment</th>\n",
              "      <td>145311</td>\n",
              "      <td>1965</td>\n",
              "    </tr>\n",
              "  </tbody>\n",
              "</table>\n",
              "</div>\n",
              "      <button class=\"colab-df-convert\" onclick=\"convertToInteractive('df-d807ee1d-27e6-4c80-946e-041272a53ad9')\"\n",
              "              title=\"Convert this dataframe to an interactive table.\"\n",
              "              style=\"display:none;\">\n",
              "        \n",
              "  <svg xmlns=\"http://www.w3.org/2000/svg\" height=\"24px\"viewBox=\"0 0 24 24\"\n",
              "       width=\"24px\">\n",
              "    <path d=\"M0 0h24v24H0V0z\" fill=\"none\"/>\n",
              "    <path d=\"M18.56 5.44l.94 2.06.94-2.06 2.06-.94-2.06-.94-.94-2.06-.94 2.06-2.06.94zm-11 1L8.5 8.5l.94-2.06 2.06-.94-2.06-.94L8.5 2.5l-.94 2.06-2.06.94zm10 10l.94 2.06.94-2.06 2.06-.94-2.06-.94-.94-2.06-.94 2.06-2.06.94z\"/><path d=\"M17.41 7.96l-1.37-1.37c-.4-.4-.92-.59-1.43-.59-.52 0-1.04.2-1.43.59L10.3 9.45l-7.72 7.72c-.78.78-.78 2.05 0 2.83L4 21.41c.39.39.9.59 1.41.59.51 0 1.02-.2 1.41-.59l7.78-7.78 2.81-2.81c.8-.78.8-2.07 0-2.86zM5.41 20L4 18.59l7.72-7.72 1.47 1.35L5.41 20z\"/>\n",
              "  </svg>\n",
              "      </button>\n",
              "      \n",
              "  <style>\n",
              "    .colab-df-container {\n",
              "      display:flex;\n",
              "      flex-wrap:wrap;\n",
              "      gap: 12px;\n",
              "    }\n",
              "\n",
              "    .colab-df-convert {\n",
              "      background-color: #E8F0FE;\n",
              "      border: none;\n",
              "      border-radius: 50%;\n",
              "      cursor: pointer;\n",
              "      display: none;\n",
              "      fill: #1967D2;\n",
              "      height: 32px;\n",
              "      padding: 0 0 0 0;\n",
              "      width: 32px;\n",
              "    }\n",
              "\n",
              "    .colab-df-convert:hover {\n",
              "      background-color: #E2EBFA;\n",
              "      box-shadow: 0px 1px 2px rgba(60, 64, 67, 0.3), 0px 1px 3px 1px rgba(60, 64, 67, 0.15);\n",
              "      fill: #174EA6;\n",
              "    }\n",
              "\n",
              "    [theme=dark] .colab-df-convert {\n",
              "      background-color: #3B4455;\n",
              "      fill: #D2E3FC;\n",
              "    }\n",
              "\n",
              "    [theme=dark] .colab-df-convert:hover {\n",
              "      background-color: #434B5C;\n",
              "      box-shadow: 0px 1px 3px 1px rgba(0, 0, 0, 0.15);\n",
              "      filter: drop-shadow(0px 1px 2px rgba(0, 0, 0, 0.3));\n",
              "      fill: #FFFFFF;\n",
              "    }\n",
              "  </style>\n",
              "\n",
              "      <script>\n",
              "        const buttonEl =\n",
              "          document.querySelector('#df-d807ee1d-27e6-4c80-946e-041272a53ad9 button.colab-df-convert');\n",
              "        buttonEl.style.display =\n",
              "          google.colab.kernel.accessAllowed ? 'block' : 'none';\n",
              "\n",
              "        async function convertToInteractive(key) {\n",
              "          const element = document.querySelector('#df-d807ee1d-27e6-4c80-946e-041272a53ad9');\n",
              "          const dataTable =\n",
              "            await google.colab.kernel.invokeFunction('convertToInteractive',\n",
              "                                                     [key], {});\n",
              "          if (!dataTable) return;\n",
              "\n",
              "          const docLinkHtml = 'Like what you see? Visit the ' +\n",
              "            '<a target=\"_blank\" href=https://colab.research.google.com/notebooks/data_table.ipynb>data table notebook</a>'\n",
              "            + ' to learn more about interactive tables.';\n",
              "          element.innerHTML = '';\n",
              "          dataTable['output_type'] = 'display_data';\n",
              "          await google.colab.output.renderOutput(dataTable, element);\n",
              "          const docLink = document.createElement('div');\n",
              "          docLink.innerHTML = docLinkHtml;\n",
              "          element.appendChild(docLink);\n",
              "        }\n",
              "      </script>\n",
              "    </div>\n",
              "  </div>\n",
              "  "
            ]
          },
          "metadata": {},
          "execution_count": 6
        }
      ]
    },
    {
      "cell_type": "markdown",
      "source": [
        "For the rows where treatment is not aligned with new_page or control is not aligned with old_page, we cannot be sure if this row truly received the new or old page. "
      ],
      "metadata": {
        "id": "KV9tmT9L7gfh"
      }
    },
    {
      "cell_type": "code",
      "source": [
        "# To make sure all the control group are seeing the old page \n",
        "df_old = df[df['group'] == 'control'][df['landing_page'] == 'old_page']"
      ],
      "metadata": {
        "id": "qec-EDTo7vt6",
        "outputId": "9616a794-6c59-4208-da83-c11eab3fc679",
        "execution": {
          "iopub.status.busy": "2022-08-28T15:40:58.710822Z",
          "iopub.execute_input": "2022-08-28T15:40:58.711152Z",
          "iopub.status.idle": "2022-08-28T15:40:58.793384Z",
          "shell.execute_reply.started": "2022-08-28T15:40:58.711121Z",
          "shell.execute_reply": "2022-08-28T15:40:58.792580Z"
        },
        "trusted": true,
        "colab": {
          "base_uri": "https://localhost:8080/"
        }
      },
      "execution_count": 7,
      "outputs": [
        {
          "output_type": "stream",
          "name": "stderr",
          "text": [
            "/usr/local/lib/python3.7/dist-packages/ipykernel_launcher.py:2: UserWarning: Boolean Series key will be reindexed to match DataFrame index.\n",
            "  \n"
          ]
        }
      ]
    },
    {
      "cell_type": "code",
      "source": [
        "# To make sure all the treatment group are seeing the new page \n",
        "df_new = df[df['group'] == 'treatment'][df['landing_page'] == 'new_page']"
      ],
      "metadata": {
        "id": "p99u1O696hIf",
        "outputId": "b70e8fb7-6540-47d1-e494-417cfff80a79",
        "execution": {
          "iopub.status.busy": "2022-08-28T15:40:58.794551Z",
          "iopub.execute_input": "2022-08-28T15:40:58.795611Z",
          "iopub.status.idle": "2022-08-28T15:40:58.877286Z",
          "shell.execute_reply.started": "2022-08-28T15:40:58.795577Z",
          "shell.execute_reply": "2022-08-28T15:40:58.876136Z"
        },
        "trusted": true,
        "colab": {
          "base_uri": "https://localhost:8080/"
        }
      },
      "execution_count": 8,
      "outputs": [
        {
          "output_type": "stream",
          "name": "stderr",
          "text": [
            "/usr/local/lib/python3.7/dist-packages/ipykernel_launcher.py:2: UserWarning: Boolean Series key will be reindexed to match DataFrame index.\n",
            "  \n"
          ]
        }
      ]
    },
    {
      "cell_type": "code",
      "source": [
        "# Create a new dataset \n",
        "df = pd.concat([df_old, df_new])"
      ],
      "metadata": {
        "id": "qqGprMii92I2",
        "execution": {
          "iopub.status.busy": "2022-08-28T15:40:58.881083Z",
          "iopub.execute_input": "2022-08-28T15:40:58.881410Z",
          "iopub.status.idle": "2022-08-28T15:40:58.896756Z",
          "shell.execute_reply.started": "2022-08-28T15:40:58.881380Z",
          "shell.execute_reply": "2022-08-28T15:40:58.895830Z"
        },
        "trusted": true
      },
      "execution_count": 9,
      "outputs": []
    },
    {
      "cell_type": "code",
      "source": [
        "df.tail()"
      ],
      "metadata": {
        "id": "pDYZZ9_o6A9G",
        "outputId": "45292133-a4cc-474d-a0d7-9f8e6432d51a",
        "execution": {
          "iopub.status.busy": "2022-08-28T15:40:58.898102Z",
          "iopub.execute_input": "2022-08-28T15:40:58.898413Z",
          "iopub.status.idle": "2022-08-28T15:40:58.910224Z",
          "shell.execute_reply.started": "2022-08-28T15:40:58.898385Z",
          "shell.execute_reply": "2022-08-28T15:40:58.909248Z"
        },
        "trusted": true,
        "colab": {
          "base_uri": "https://localhost:8080/",
          "height": 204
        }
      },
      "execution_count": 10,
      "outputs": [
        {
          "output_type": "execute_result",
          "data": {
            "text/plain": [
              "        user_id                   timestamp      group landing_page  converted\n",
              "294462   677163  2017-01-03 19:41:51.902148  treatment     new_page          0\n",
              "294465   925675  2017-01-07 20:38:26.346410  treatment     new_page          0\n",
              "294468   643562  2017-01-02 19:20:05.460595  treatment     new_page          0\n",
              "294472   822004  2017-01-04 03:36:46.071379  treatment     new_page          0\n",
              "294477   715931  2017-01-16 12:40:24.467417  treatment     new_page          0"
            ],
            "text/html": [
              "\n",
              "  <div id=\"df-6a324df3-026a-4508-910c-69a2c75e82af\">\n",
              "    <div class=\"colab-df-container\">\n",
              "      <div>\n",
              "<style scoped>\n",
              "    .dataframe tbody tr th:only-of-type {\n",
              "        vertical-align: middle;\n",
              "    }\n",
              "\n",
              "    .dataframe tbody tr th {\n",
              "        vertical-align: top;\n",
              "    }\n",
              "\n",
              "    .dataframe thead th {\n",
              "        text-align: right;\n",
              "    }\n",
              "</style>\n",
              "<table border=\"1\" class=\"dataframe\">\n",
              "  <thead>\n",
              "    <tr style=\"text-align: right;\">\n",
              "      <th></th>\n",
              "      <th>user_id</th>\n",
              "      <th>timestamp</th>\n",
              "      <th>group</th>\n",
              "      <th>landing_page</th>\n",
              "      <th>converted</th>\n",
              "    </tr>\n",
              "  </thead>\n",
              "  <tbody>\n",
              "    <tr>\n",
              "      <th>294462</th>\n",
              "      <td>677163</td>\n",
              "      <td>2017-01-03 19:41:51.902148</td>\n",
              "      <td>treatment</td>\n",
              "      <td>new_page</td>\n",
              "      <td>0</td>\n",
              "    </tr>\n",
              "    <tr>\n",
              "      <th>294465</th>\n",
              "      <td>925675</td>\n",
              "      <td>2017-01-07 20:38:26.346410</td>\n",
              "      <td>treatment</td>\n",
              "      <td>new_page</td>\n",
              "      <td>0</td>\n",
              "    </tr>\n",
              "    <tr>\n",
              "      <th>294468</th>\n",
              "      <td>643562</td>\n",
              "      <td>2017-01-02 19:20:05.460595</td>\n",
              "      <td>treatment</td>\n",
              "      <td>new_page</td>\n",
              "      <td>0</td>\n",
              "    </tr>\n",
              "    <tr>\n",
              "      <th>294472</th>\n",
              "      <td>822004</td>\n",
              "      <td>2017-01-04 03:36:46.071379</td>\n",
              "      <td>treatment</td>\n",
              "      <td>new_page</td>\n",
              "      <td>0</td>\n",
              "    </tr>\n",
              "    <tr>\n",
              "      <th>294477</th>\n",
              "      <td>715931</td>\n",
              "      <td>2017-01-16 12:40:24.467417</td>\n",
              "      <td>treatment</td>\n",
              "      <td>new_page</td>\n",
              "      <td>0</td>\n",
              "    </tr>\n",
              "  </tbody>\n",
              "</table>\n",
              "</div>\n",
              "      <button class=\"colab-df-convert\" onclick=\"convertToInteractive('df-6a324df3-026a-4508-910c-69a2c75e82af')\"\n",
              "              title=\"Convert this dataframe to an interactive table.\"\n",
              "              style=\"display:none;\">\n",
              "        \n",
              "  <svg xmlns=\"http://www.w3.org/2000/svg\" height=\"24px\"viewBox=\"0 0 24 24\"\n",
              "       width=\"24px\">\n",
              "    <path d=\"M0 0h24v24H0V0z\" fill=\"none\"/>\n",
              "    <path d=\"M18.56 5.44l.94 2.06.94-2.06 2.06-.94-2.06-.94-.94-2.06-.94 2.06-2.06.94zm-11 1L8.5 8.5l.94-2.06 2.06-.94-2.06-.94L8.5 2.5l-.94 2.06-2.06.94zm10 10l.94 2.06.94-2.06 2.06-.94-2.06-.94-.94-2.06-.94 2.06-2.06.94z\"/><path d=\"M17.41 7.96l-1.37-1.37c-.4-.4-.92-.59-1.43-.59-.52 0-1.04.2-1.43.59L10.3 9.45l-7.72 7.72c-.78.78-.78 2.05 0 2.83L4 21.41c.39.39.9.59 1.41.59.51 0 1.02-.2 1.41-.59l7.78-7.78 2.81-2.81c.8-.78.8-2.07 0-2.86zM5.41 20L4 18.59l7.72-7.72 1.47 1.35L5.41 20z\"/>\n",
              "  </svg>\n",
              "      </button>\n",
              "      \n",
              "  <style>\n",
              "    .colab-df-container {\n",
              "      display:flex;\n",
              "      flex-wrap:wrap;\n",
              "      gap: 12px;\n",
              "    }\n",
              "\n",
              "    .colab-df-convert {\n",
              "      background-color: #E8F0FE;\n",
              "      border: none;\n",
              "      border-radius: 50%;\n",
              "      cursor: pointer;\n",
              "      display: none;\n",
              "      fill: #1967D2;\n",
              "      height: 32px;\n",
              "      padding: 0 0 0 0;\n",
              "      width: 32px;\n",
              "    }\n",
              "\n",
              "    .colab-df-convert:hover {\n",
              "      background-color: #E2EBFA;\n",
              "      box-shadow: 0px 1px 2px rgba(60, 64, 67, 0.3), 0px 1px 3px 1px rgba(60, 64, 67, 0.15);\n",
              "      fill: #174EA6;\n",
              "    }\n",
              "\n",
              "    [theme=dark] .colab-df-convert {\n",
              "      background-color: #3B4455;\n",
              "      fill: #D2E3FC;\n",
              "    }\n",
              "\n",
              "    [theme=dark] .colab-df-convert:hover {\n",
              "      background-color: #434B5C;\n",
              "      box-shadow: 0px 1px 3px 1px rgba(0, 0, 0, 0.15);\n",
              "      filter: drop-shadow(0px 1px 2px rgba(0, 0, 0, 0.3));\n",
              "      fill: #FFFFFF;\n",
              "    }\n",
              "  </style>\n",
              "\n",
              "      <script>\n",
              "        const buttonEl =\n",
              "          document.querySelector('#df-6a324df3-026a-4508-910c-69a2c75e82af button.colab-df-convert');\n",
              "        buttonEl.style.display =\n",
              "          google.colab.kernel.accessAllowed ? 'block' : 'none';\n",
              "\n",
              "        async function convertToInteractive(key) {\n",
              "          const element = document.querySelector('#df-6a324df3-026a-4508-910c-69a2c75e82af');\n",
              "          const dataTable =\n",
              "            await google.colab.kernel.invokeFunction('convertToInteractive',\n",
              "                                                     [key], {});\n",
              "          if (!dataTable) return;\n",
              "\n",
              "          const docLinkHtml = 'Like what you see? Visit the ' +\n",
              "            '<a target=\"_blank\" href=https://colab.research.google.com/notebooks/data_table.ipynb>data table notebook</a>'\n",
              "            + ' to learn more about interactive tables.';\n",
              "          element.innerHTML = '';\n",
              "          dataTable['output_type'] = 'display_data';\n",
              "          await google.colab.output.renderOutput(dataTable, element);\n",
              "          const docLink = document.createElement('div');\n",
              "          docLink.innerHTML = docLinkHtml;\n",
              "          element.appendChild(docLink);\n",
              "        }\n",
              "      </script>\n",
              "    </div>\n",
              "  </div>\n",
              "  "
            ]
          },
          "metadata": {},
          "execution_count": 10
        }
      ]
    },
    {
      "cell_type": "markdown",
      "source": [
        "The number of unique users in the dataset."
      ],
      "metadata": {
        "id": "V0rCS7JXI9LD"
      }
    },
    {
      "cell_type": "code",
      "source": [
        "df['user_id'].nunique()"
      ],
      "metadata": {
        "id": "yJ5QuTLzgQX6",
        "outputId": "c11a287f-e757-46d4-913c-1dfde4a09756",
        "execution": {
          "iopub.status.busy": "2022-08-28T15:40:58.911544Z",
          "iopub.execute_input": "2022-08-28T15:40:58.912162Z",
          "iopub.status.idle": "2022-08-28T15:40:58.933483Z",
          "shell.execute_reply.started": "2022-08-28T15:40:58.912127Z",
          "shell.execute_reply": "2022-08-28T15:40:58.932678Z"
        },
        "trusted": true,
        "colab": {
          "base_uri": "https://localhost:8080/"
        }
      },
      "execution_count": 11,
      "outputs": [
        {
          "output_type": "execute_result",
          "data": {
            "text/plain": [
              "290584"
            ]
          },
          "metadata": {},
          "execution_count": 11
        }
      ]
    },
    {
      "cell_type": "code",
      "source": [
        "len(df.index)"
      ],
      "metadata": {
        "id": "5neAzpD3AMYw",
        "outputId": "3c906c17-f36c-43e2-f4e3-6fe2d280ceb5",
        "execution": {
          "iopub.status.busy": "2022-08-28T15:40:58.934722Z",
          "iopub.execute_input": "2022-08-28T15:40:58.935609Z",
          "iopub.status.idle": "2022-08-28T15:40:58.941192Z",
          "shell.execute_reply.started": "2022-08-28T15:40:58.935575Z",
          "shell.execute_reply": "2022-08-28T15:40:58.940438Z"
        },
        "trusted": true,
        "colab": {
          "base_uri": "https://localhost:8080/"
        }
      },
      "execution_count": 12,
      "outputs": [
        {
          "output_type": "execute_result",
          "data": {
            "text/plain": [
              "290585"
            ]
          },
          "metadata": {},
          "execution_count": 12
        }
      ]
    },
    {
      "cell_type": "markdown",
      "source": [
        "There is one user_id repeated in df."
      ],
      "metadata": {
        "id": "4KoGIs6KgjHE"
      }
    },
    {
      "cell_type": "code",
      "source": [
        "duplicates = df[df.duplicated(['user_id'], keep = False)]"
      ],
      "metadata": {
        "id": "e0UuAjgf5FDc",
        "execution": {
          "iopub.status.busy": "2022-08-28T15:40:58.942333Z",
          "iopub.execute_input": "2022-08-28T15:40:58.942821Z",
          "iopub.status.idle": "2022-08-28T15:40:58.979974Z",
          "shell.execute_reply.started": "2022-08-28T15:40:58.942790Z",
          "shell.execute_reply": "2022-08-28T15:40:58.978719Z"
        },
        "trusted": true
      },
      "execution_count": 13,
      "outputs": []
    },
    {
      "cell_type": "code",
      "source": [
        "duplicates.sort_values(['user_id'], ascending = False) "
      ],
      "metadata": {
        "id": "cJh5KDir567K",
        "outputId": "95e50ad1-e184-49b9-a64b-a04e38c50dfb",
        "execution": {
          "iopub.status.busy": "2022-08-28T15:40:58.981408Z",
          "iopub.execute_input": "2022-08-28T15:40:58.981770Z",
          "iopub.status.idle": "2022-08-28T15:40:58.993987Z",
          "shell.execute_reply.started": "2022-08-28T15:40:58.981739Z",
          "shell.execute_reply": "2022-08-28T15:40:58.993185Z"
        },
        "trusted": true,
        "colab": {
          "base_uri": "https://localhost:8080/",
          "height": 111
        }
      },
      "execution_count": 14,
      "outputs": [
        {
          "output_type": "execute_result",
          "data": {
            "text/plain": [
              "      user_id                   timestamp      group landing_page  converted\n",
              "1899   773192  2017-01-09 05:37:58.781806  treatment     new_page          0\n",
              "2893   773192  2017-01-14 02:55:59.590927  treatment     new_page          0"
            ],
            "text/html": [
              "\n",
              "  <div id=\"df-d04e3736-59d3-485b-9c4d-f7858306392d\">\n",
              "    <div class=\"colab-df-container\">\n",
              "      <div>\n",
              "<style scoped>\n",
              "    .dataframe tbody tr th:only-of-type {\n",
              "        vertical-align: middle;\n",
              "    }\n",
              "\n",
              "    .dataframe tbody tr th {\n",
              "        vertical-align: top;\n",
              "    }\n",
              "\n",
              "    .dataframe thead th {\n",
              "        text-align: right;\n",
              "    }\n",
              "</style>\n",
              "<table border=\"1\" class=\"dataframe\">\n",
              "  <thead>\n",
              "    <tr style=\"text-align: right;\">\n",
              "      <th></th>\n",
              "      <th>user_id</th>\n",
              "      <th>timestamp</th>\n",
              "      <th>group</th>\n",
              "      <th>landing_page</th>\n",
              "      <th>converted</th>\n",
              "    </tr>\n",
              "  </thead>\n",
              "  <tbody>\n",
              "    <tr>\n",
              "      <th>1899</th>\n",
              "      <td>773192</td>\n",
              "      <td>2017-01-09 05:37:58.781806</td>\n",
              "      <td>treatment</td>\n",
              "      <td>new_page</td>\n",
              "      <td>0</td>\n",
              "    </tr>\n",
              "    <tr>\n",
              "      <th>2893</th>\n",
              "      <td>773192</td>\n",
              "      <td>2017-01-14 02:55:59.590927</td>\n",
              "      <td>treatment</td>\n",
              "      <td>new_page</td>\n",
              "      <td>0</td>\n",
              "    </tr>\n",
              "  </tbody>\n",
              "</table>\n",
              "</div>\n",
              "      <button class=\"colab-df-convert\" onclick=\"convertToInteractive('df-d04e3736-59d3-485b-9c4d-f7858306392d')\"\n",
              "              title=\"Convert this dataframe to an interactive table.\"\n",
              "              style=\"display:none;\">\n",
              "        \n",
              "  <svg xmlns=\"http://www.w3.org/2000/svg\" height=\"24px\"viewBox=\"0 0 24 24\"\n",
              "       width=\"24px\">\n",
              "    <path d=\"M0 0h24v24H0V0z\" fill=\"none\"/>\n",
              "    <path d=\"M18.56 5.44l.94 2.06.94-2.06 2.06-.94-2.06-.94-.94-2.06-.94 2.06-2.06.94zm-11 1L8.5 8.5l.94-2.06 2.06-.94-2.06-.94L8.5 2.5l-.94 2.06-2.06.94zm10 10l.94 2.06.94-2.06 2.06-.94-2.06-.94-.94-2.06-.94 2.06-2.06.94z\"/><path d=\"M17.41 7.96l-1.37-1.37c-.4-.4-.92-.59-1.43-.59-.52 0-1.04.2-1.43.59L10.3 9.45l-7.72 7.72c-.78.78-.78 2.05 0 2.83L4 21.41c.39.39.9.59 1.41.59.51 0 1.02-.2 1.41-.59l7.78-7.78 2.81-2.81c.8-.78.8-2.07 0-2.86zM5.41 20L4 18.59l7.72-7.72 1.47 1.35L5.41 20z\"/>\n",
              "  </svg>\n",
              "      </button>\n",
              "      \n",
              "  <style>\n",
              "    .colab-df-container {\n",
              "      display:flex;\n",
              "      flex-wrap:wrap;\n",
              "      gap: 12px;\n",
              "    }\n",
              "\n",
              "    .colab-df-convert {\n",
              "      background-color: #E8F0FE;\n",
              "      border: none;\n",
              "      border-radius: 50%;\n",
              "      cursor: pointer;\n",
              "      display: none;\n",
              "      fill: #1967D2;\n",
              "      height: 32px;\n",
              "      padding: 0 0 0 0;\n",
              "      width: 32px;\n",
              "    }\n",
              "\n",
              "    .colab-df-convert:hover {\n",
              "      background-color: #E2EBFA;\n",
              "      box-shadow: 0px 1px 2px rgba(60, 64, 67, 0.3), 0px 1px 3px 1px rgba(60, 64, 67, 0.15);\n",
              "      fill: #174EA6;\n",
              "    }\n",
              "\n",
              "    [theme=dark] .colab-df-convert {\n",
              "      background-color: #3B4455;\n",
              "      fill: #D2E3FC;\n",
              "    }\n",
              "\n",
              "    [theme=dark] .colab-df-convert:hover {\n",
              "      background-color: #434B5C;\n",
              "      box-shadow: 0px 1px 3px 1px rgba(0, 0, 0, 0.15);\n",
              "      filter: drop-shadow(0px 1px 2px rgba(0, 0, 0, 0.3));\n",
              "      fill: #FFFFFF;\n",
              "    }\n",
              "  </style>\n",
              "\n",
              "      <script>\n",
              "        const buttonEl =\n",
              "          document.querySelector('#df-d04e3736-59d3-485b-9c4d-f7858306392d button.colab-df-convert');\n",
              "        buttonEl.style.display =\n",
              "          google.colab.kernel.accessAllowed ? 'block' : 'none';\n",
              "\n",
              "        async function convertToInteractive(key) {\n",
              "          const element = document.querySelector('#df-d04e3736-59d3-485b-9c4d-f7858306392d');\n",
              "          const dataTable =\n",
              "            await google.colab.kernel.invokeFunction('convertToInteractive',\n",
              "                                                     [key], {});\n",
              "          if (!dataTable) return;\n",
              "\n",
              "          const docLinkHtml = 'Like what you see? Visit the ' +\n",
              "            '<a target=\"_blank\" href=https://colab.research.google.com/notebooks/data_table.ipynb>data table notebook</a>'\n",
              "            + ' to learn more about interactive tables.';\n",
              "          element.innerHTML = '';\n",
              "          dataTable['output_type'] = 'display_data';\n",
              "          await google.colab.output.renderOutput(dataTable, element);\n",
              "          const docLink = document.createElement('div');\n",
              "          docLink.innerHTML = docLinkHtml;\n",
              "          element.appendChild(docLink);\n",
              "        }\n",
              "      </script>\n",
              "    </div>\n",
              "  </div>\n",
              "  "
            ]
          },
          "metadata": {},
          "execution_count": 14
        }
      ]
    },
    {
      "cell_type": "code",
      "source": [
        "# Remove one of the rows with a duplicate user_id\n",
        "df.drop_duplicates(subset = 'user_id', keep = 'first', inplace = True)"
      ],
      "metadata": {
        "id": "mRQRaubuCSfn",
        "execution": {
          "iopub.status.busy": "2022-08-28T15:40:58.995400Z",
          "iopub.execute_input": "2022-08-28T15:40:58.996122Z",
          "iopub.status.idle": "2022-08-28T15:40:59.041302Z",
          "shell.execute_reply.started": "2022-08-28T15:40:58.996004Z",
          "shell.execute_reply": "2022-08-28T15:40:59.040039Z"
        },
        "trusted": true
      },
      "execution_count": 15,
      "outputs": []
    },
    {
      "cell_type": "code",
      "source": [
        "df['user_id'].nunique()"
      ],
      "metadata": {
        "id": "kuRt8PeCa0XS",
        "outputId": "7899ecb1-b6c4-4a86-b270-86e75e4e7c18",
        "execution": {
          "iopub.status.busy": "2022-08-28T15:40:59.042775Z",
          "iopub.execute_input": "2022-08-28T15:40:59.043130Z",
          "iopub.status.idle": "2022-08-28T15:40:59.062891Z",
          "shell.execute_reply.started": "2022-08-28T15:40:59.043099Z",
          "shell.execute_reply": "2022-08-28T15:40:59.061991Z"
        },
        "trusted": true,
        "colab": {
          "base_uri": "https://localhost:8080/"
        }
      },
      "execution_count": 16,
      "outputs": [
        {
          "output_type": "execute_result",
          "data": {
            "text/plain": [
              "290584"
            ]
          },
          "metadata": {},
          "execution_count": 16
        }
      ]
    },
    {
      "cell_type": "code",
      "source": [
        "len(df.index)"
      ],
      "metadata": {
        "id": "z0Uxon3Qaqng",
        "outputId": "3bc3ebd3-8625-4df8-d8c7-ddd3f1f4d10b",
        "execution": {
          "iopub.status.busy": "2022-08-28T15:40:59.064298Z",
          "iopub.execute_input": "2022-08-28T15:40:59.064637Z",
          "iopub.status.idle": "2022-08-28T15:40:59.071264Z",
          "shell.execute_reply.started": "2022-08-28T15:40:59.064590Z",
          "shell.execute_reply": "2022-08-28T15:40:59.070139Z"
        },
        "trusted": true,
        "colab": {
          "base_uri": "https://localhost:8080/"
        }
      },
      "execution_count": 17,
      "outputs": [
        {
          "output_type": "execute_result",
          "data": {
            "text/plain": [
              "290584"
            ]
          },
          "metadata": {},
          "execution_count": 17
        }
      ]
    },
    {
      "cell_type": "code",
      "source": [
        "import scipy.stats as stats"
      ],
      "metadata": {
        "id": "dVUPvN-b9XH7",
        "execution": {
          "iopub.status.busy": "2022-08-28T15:40:59.072799Z",
          "iopub.execute_input": "2022-08-28T15:40:59.073491Z",
          "iopub.status.idle": "2022-08-28T15:40:59.081581Z",
          "shell.execute_reply.started": "2022-08-28T15:40:59.073444Z",
          "shell.execute_reply": "2022-08-28T15:40:59.080889Z"
        },
        "trusted": true
      },
      "execution_count": 18,
      "outputs": []
    },
    {
      "cell_type": "code",
      "source": [
        "# Given that an individual was in the control group, what is the probability they converted?\n",
        "df[df['group'] == 'control']['converted'].mean()"
      ],
      "metadata": {
        "id": "WXYpCaSd9Wx5",
        "outputId": "af834e36-5ea5-4ab5-dab9-ec8f59aa5288",
        "execution": {
          "iopub.status.busy": "2022-08-28T15:40:59.083071Z",
          "iopub.execute_input": "2022-08-28T15:40:59.083714Z",
          "iopub.status.idle": "2022-08-28T15:40:59.131148Z",
          "shell.execute_reply.started": "2022-08-28T15:40:59.083658Z",
          "shell.execute_reply": "2022-08-28T15:40:59.130353Z"
        },
        "trusted": true,
        "colab": {
          "base_uri": "https://localhost:8080/"
        }
      },
      "execution_count": 19,
      "outputs": [
        {
          "output_type": "execute_result",
          "data": {
            "text/plain": [
              "0.1203863045004612"
            ]
          },
          "metadata": {},
          "execution_count": 19
        }
      ]
    },
    {
      "cell_type": "code",
      "source": [
        "# Given that an individual was in the treatment group, what is the probability they converted?\n",
        "df[df['group'] == 'treatment']['converted'].mean()"
      ],
      "metadata": {
        "id": "BAXpj7Ho9WmT",
        "outputId": "bb9338dd-dbe9-4408-8583-97e621673416",
        "execution": {
          "iopub.status.busy": "2022-08-28T15:40:59.132493Z",
          "iopub.execute_input": "2022-08-28T15:40:59.133106Z",
          "iopub.status.idle": "2022-08-28T15:40:59.173008Z",
          "shell.execute_reply.started": "2022-08-28T15:40:59.133072Z",
          "shell.execute_reply": "2022-08-28T15:40:59.171960Z"
        },
        "trusted": true,
        "colab": {
          "base_uri": "https://localhost:8080/"
        }
      },
      "execution_count": 20,
      "outputs": [
        {
          "output_type": "execute_result",
          "data": {
            "text/plain": [
              "0.11880806551510564"
            ]
          },
          "metadata": {},
          "execution_count": 20
        }
      ]
    },
    {
      "cell_type": "markdown",
      "source": [
        "There is no suffient evidence to support the statement that one page leads to more conversions.\n",
        "\n",
        "For the reason that the converted rate of the treatment group is approximately 11.9% while the converted rate of the control group is approximately 12.0%. We can see the two results are pretty close to each other, we can not make a conclusion that the treatment group take effect or vice versa. In order to make that conclution, we need to make further experiments such as A/B testing."
      ],
      "metadata": {
        "id": "8QUAVsDcCrBm"
      }
    },
    {
      "cell_type": "markdown",
      "source": [
        "**Normality**"
      ],
      "metadata": {
        "id": "V6X-ijQKI3Fa"
      }
    },
    {
      "cell_type": "markdown",
      "source": [
        "Given the sufficiently large size of the sample (n ≥ 30) and the fact that the difference in the convert rates is a random variable, the distribution of the differences should be approximately normal according to the Central Limit Theorem."
      ],
      "metadata": {
        "id": "c0CBO1pcI3Fa"
      }
    },
    {
      "cell_type": "markdown",
      "source": [
        "**Testing the hypothesis**"
      ],
      "metadata": {
        "id": "N3b4xqQ80fdM"
      }
    },
    {
      "cell_type": "markdown",
      "source": [
        "A two proportion z-test is used to test for a difference between two population proportions."
      ],
      "metadata": {
        "id": "NoGu76wg0bLF"
      }
    },
    {
      "cell_type": "code",
      "source": [
        "from statsmodels.stats.proportion import proportions_ztest"
      ],
      "metadata": {
        "id": "J9ddUSKhruRk",
        "execution": {
          "iopub.status.busy": "2022-08-28T15:40:59.174137Z",
          "iopub.execute_input": "2022-08-28T15:40:59.174449Z",
          "iopub.status.idle": "2022-08-28T15:40:59.179132Z",
          "shell.execute_reply.started": "2022-08-28T15:40:59.174420Z",
          "shell.execute_reply": "2022-08-28T15:40:59.178063Z"
        },
        "trusted": true
      },
      "execution_count": 21,
      "outputs": []
    },
    {
      "cell_type": "code",
      "source": [
        "# The number of successes in nobs trials\n",
        "converted_old = len(df[df.landing_page == 'old_page'][df.converted == 1])"
      ],
      "metadata": {
        "id": "Gvjx_ytxKLgW",
        "outputId": "c8a879d6-316b-48ce-dbf9-04688686698e",
        "execution": {
          "iopub.status.busy": "2022-08-28T15:40:59.180741Z",
          "iopub.execute_input": "2022-08-28T15:40:59.181089Z",
          "iopub.status.idle": "2022-08-28T15:40:59.253550Z",
          "shell.execute_reply.started": "2022-08-28T15:40:59.181041Z",
          "shell.execute_reply": "2022-08-28T15:40:59.251749Z"
        },
        "trusted": true,
        "colab": {
          "base_uri": "https://localhost:8080/"
        }
      },
      "execution_count": 22,
      "outputs": [
        {
          "output_type": "stream",
          "name": "stderr",
          "text": [
            "/usr/local/lib/python3.7/dist-packages/ipykernel_launcher.py:2: UserWarning: Boolean Series key will be reindexed to match DataFrame index.\n",
            "  \n"
          ]
        }
      ]
    },
    {
      "cell_type": "code",
      "source": [
        "converted_new = len(df[df.landing_page == 'new_page'][df.converted == 1])"
      ],
      "metadata": {
        "id": "Mp_6NR9NKOaQ",
        "outputId": "5417821a-ba5b-496d-9bc2-8a44a98aec1d",
        "execution": {
          "iopub.status.busy": "2022-08-28T15:40:59.254760Z",
          "iopub.execute_input": "2022-08-28T15:40:59.255518Z",
          "iopub.status.idle": "2022-08-28T15:40:59.307221Z",
          "shell.execute_reply.started": "2022-08-28T15:40:59.255483Z",
          "shell.execute_reply": "2022-08-28T15:40:59.306142Z"
        },
        "trusted": true,
        "colab": {
          "base_uri": "https://localhost:8080/"
        }
      },
      "execution_count": 23,
      "outputs": [
        {
          "output_type": "stream",
          "name": "stderr",
          "text": [
            "/usr/local/lib/python3.7/dist-packages/ipykernel_launcher.py:1: UserWarning: Boolean Series key will be reindexed to match DataFrame index.\n",
            "  \"\"\"Entry point for launching an IPython kernel.\n"
          ]
        }
      ]
    },
    {
      "cell_type": "code",
      "source": [
        "# The number of trials or observations\n",
        "n_old = len(df[df.landing_page == 'old_page'])"
      ],
      "metadata": {
        "id": "DtJa4PgWJpny",
        "execution": {
          "iopub.status.busy": "2022-08-28T15:40:59.311256Z",
          "iopub.execute_input": "2022-08-28T15:40:59.311669Z",
          "iopub.status.idle": "2022-08-28T15:40:59.351292Z",
          "shell.execute_reply.started": "2022-08-28T15:40:59.311606Z",
          "shell.execute_reply": "2022-08-28T15:40:59.350443Z"
        },
        "trusted": true
      },
      "execution_count": 24,
      "outputs": []
    },
    {
      "cell_type": "code",
      "source": [
        "n_new = len(df[df.landing_page == 'new_page'])"
      ],
      "metadata": {
        "id": "WlIhDubDJzAG",
        "execution": {
          "iopub.status.busy": "2022-08-28T15:40:59.352942Z",
          "iopub.execute_input": "2022-08-28T15:40:59.353689Z",
          "iopub.status.idle": "2022-08-28T15:40:59.393158Z",
          "shell.execute_reply.started": "2022-08-28T15:40:59.353644Z",
          "shell.execute_reply": "2022-08-28T15:40:59.392190Z"
        },
        "trusted": true
      },
      "execution_count": 25,
      "outputs": []
    },
    {
      "cell_type": "code",
      "source": [
        "import statsmodels.api as sm\n",
        "from statsmodels.stats.proportion import proportions_ztest"
      ],
      "metadata": {
        "id": "P8rrLkSFKvnR",
        "execution": {
          "iopub.status.busy": "2022-08-28T15:40:59.394229Z",
          "iopub.execute_input": "2022-08-28T15:40:59.394928Z",
          "iopub.status.idle": "2022-08-28T15:40:59.399658Z",
          "shell.execute_reply.started": "2022-08-28T15:40:59.394895Z",
          "shell.execute_reply": "2022-08-28T15:40:59.398491Z"
        },
        "trusted": true
      },
      "execution_count": 26,
      "outputs": []
    },
    {
      "cell_type": "code",
      "source": [
        "# Perform two proportion z-test\n",
        "stat, p_val = sm.stats.proportions_ztest([converted_new, converted_old], [n_new, n_old], alternative = 'larger')"
      ],
      "metadata": {
        "id": "vVyuLL-NkwnU",
        "execution": {
          "iopub.status.busy": "2022-08-28T15:40:59.401411Z",
          "iopub.execute_input": "2022-08-28T15:40:59.402141Z",
          "iopub.status.idle": "2022-08-28T15:40:59.412188Z",
          "shell.execute_reply.started": "2022-08-28T15:40:59.402094Z",
          "shell.execute_reply": "2022-08-28T15:40:59.411160Z"
        },
        "trusted": true
      },
      "execution_count": 27,
      "outputs": []
    },
    {
      "cell_type": "code",
      "source": [
        "# Test statistic for the z-test\n",
        "stat"
      ],
      "metadata": {
        "id": "ObbHOP6Lkx5W",
        "outputId": "86813cfe-f1c6-41c5-93b7-554153ea5a11",
        "execution": {
          "iopub.status.busy": "2022-08-28T15:40:59.413580Z",
          "iopub.execute_input": "2022-08-28T15:40:59.414167Z",
          "iopub.status.idle": "2022-08-28T15:40:59.427135Z",
          "shell.execute_reply.started": "2022-08-28T15:40:59.414133Z",
          "shell.execute_reply": "2022-08-28T15:40:59.426008Z"
        },
        "trusted": true,
        "colab": {
          "base_uri": "https://localhost:8080/"
        }
      },
      "execution_count": 28,
      "outputs": [
        {
          "output_type": "execute_result",
          "data": {
            "text/plain": [
              "-1.3109241984234394"
            ]
          },
          "metadata": {},
          "execution_count": 28
        }
      ]
    },
    {
      "cell_type": "code",
      "source": [
        "# P-value for the z-test\n",
        "p_val"
      ],
      "metadata": {
        "execution": {
          "iopub.status.busy": "2022-08-28T15:40:59.428409Z",
          "iopub.execute_input": "2022-08-28T15:40:59.429500Z",
          "iopub.status.idle": "2022-08-28T15:40:59.438490Z",
          "shell.execute_reply.started": "2022-08-28T15:40:59.429466Z",
          "shell.execute_reply": "2022-08-28T15:40:59.437491Z"
        },
        "trusted": true,
        "colab": {
          "base_uri": "https://localhost:8080/"
        },
        "id": "gOWMjNXoI3Fh",
        "outputId": "09eed651-9ddb-4290-c44c-bf46cd85adcd"
      },
      "execution_count": 29,
      "outputs": [
        {
          "output_type": "execute_result",
          "data": {
            "text/plain": [
              "0.9050583127590245"
            ]
          },
          "metadata": {},
          "execution_count": 29
        }
      ]
    },
    {
      "cell_type": "markdown",
      "source": [
        "**Conclusion**"
      ],
      "metadata": {
        "id": "5Fe0cdzu2bCE"
      }
    },
    {
      "cell_type": "markdown",
      "source": [
        "Since our p-value = 0.905 is way above our $ α $ = 0.05, we cannot reject the null hypothesis, which means that our new design did not perform significantly different (let alone better) than our old one."
      ],
      "metadata": {
        "id": "h6nxkWr3Xswi"
      }
    }
  ]
}