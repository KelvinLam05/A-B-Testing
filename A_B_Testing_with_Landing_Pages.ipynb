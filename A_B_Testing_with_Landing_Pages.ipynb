{
  "nbformat": 4,
  "nbformat_minor": 0,
  "metadata": {
    "colab": {
      "name": "A/B Testing with Landing Pages.ipynb",
      "provenance": [],
      "collapsed_sections": [],
      "authorship_tag": "ABX9TyM85jj1wZdFDL3oHu9sQjeH",
      "include_colab_link": true
    },
    "kernelspec": {
      "name": "python3",
      "display_name": "Python 3"
    },
    "language_info": {
      "name": "python"
    }
  },
  "cells": [
    {
      "cell_type": "markdown",
      "metadata": {
        "id": "view-in-github",
        "colab_type": "text"
      },
      "source": [
        "<a href=\"https://colab.research.google.com/github/KelvinLam05/A-B-Testing/blob/main/A_B_Testing_with_Landing_Pages.ipynb\" target=\"_parent\"><img src=\"https://colab.research.google.com/assets/colab-badge.svg\" alt=\"Open In Colab\"/></a>"
      ]
    },
    {
      "cell_type": "markdown",
      "metadata": {
        "id": "k2MdgDDd68Za"
      },
      "source": [
        "**Goal of the project**\n",
        "\n",
        "In this notebook, we will be working to understand the results of an A/B test run by an e-commerce website. The company has developed a new web page in order to try and increase the number of users who \"convert,\" meaning the number of users who decide to pay for the company's product. Our goal is to work through this notebook to help the company understand if they should implement this new page, keep the old page, or perhaps run the experiment longer to make their decision."
      ]
    },
    {
      "cell_type": "markdown",
      "metadata": {
        "id": "gJGhzxR5xYGL"
      },
      "source": [
        "**Attribute information**\n",
        "\n",
        "* user_id : The user ID of each session\n",
        "\n",
        "* timestamp : Timestamp for the session\n",
        "\n",
        "* group : Which group the user was assigned to for that session {control, treatment}\n",
        "\n",
        "* landing_page : Which design each user saw on that session {old_page, new_page}\n",
        "\n",
        "* converted : Whether the session ended in a conversion or not (binary, 0 = not converted, 1 = converted)\n"
      ]
    },
    {
      "cell_type": "markdown",
      "metadata": {
        "id": "lDHuhrv37OTn"
      },
      "source": [
        "**Scenario**\n",
        "\n",
        "To make it a bit more realistic, here’s a potential scenario for our study:\n",
        "\n",
        "*Let’s imagine we work on the product team at a medium-sized online e-commerce business. The UX designer worked really hard on a new version of the product page, with the hope that it will lead to a higher conversion rate. The product manager (PM) told us that the current conversion rate is about 12% on average throughout the year, and that the team would be happy with an increase of 0.35%, meaning that the new design will be considered a success if it raises the conversion rate to 12.35%.*"
      ]
    },
    {
      "cell_type": "markdown",
      "metadata": {
        "id": "8UOhSQVs8SZk"
      },
      "source": [
        "**Formulating a hypothesis**\n",
        "\n",
        "First things first, we want to make sure we formulate a hypothesis at the start of our project. This will make sure our interpretation of the results is correct as well as rigorous.\n",
        "\n",
        "$ H_{0}: p_{old} ≥ p_{new} $\n",
        "\n",
        "$ H_{1}: p_{old} < p_{new} $\n",
        "\n",
        "where $ p_{old} $ and $ p_{new} $ stand for the conversion rate of the new and old design, respectively. We’ll also set a confidence level of 95%:\n",
        "\n",
        "$ α $ = 0.05 \n",
        "\n",
        "The α value is a threshold we set, by which we say “if the probability of observing a result as extreme or more (p-value) is lower than $ α $, then we reject the null hypothesis”. Since our $ α $ = 0.05 (indicating 5% probability), our confidence (1 — $ α $) is 95%.\n"
      ]
    },
    {
      "cell_type": "markdown",
      "metadata": {
        "id": "QALNeor5-gcj"
      },
      "source": [
        "**Choosing the variables**\n",
        "\n",
        "For our test we’ll need two groups:\n",
        "\n",
        "* A control group - They'll be shown the old design\n",
        "\n",
        "* A treatment (or experimental) group - They'll be shown the new design\n",
        "\n",
        "This will be our *Independent Variable*. The reason we have two groups even though we know the baseline conversion rate is that we want to control for other variables that could have an effect on our results, such as seasonality: by having a control group we can directly compare their results to the treatment group, because the only systematic difference between the groups is the design of the product page, and we can therefore attribute any differences in results to the designs.\n",
        "\n",
        "For our *Dependent Variable* (i.e. what we are trying to measure), we are interested in capturing the conversion rate. A way we can code this is by each user session with a binary variable:\n",
        "\n",
        "* 0 - The user did not buy the product during this user session\n",
        "\n",
        "* 1 - The user bought the product during this user session"
      ]
    },
    {
      "cell_type": "markdown",
      "metadata": {
        "id": "X9OhMa0sy9wm"
      },
      "source": [
        "**Collecting the data**"
      ]
    },
    {
      "cell_type": "code",
      "metadata": {
        "id": "36_KiuS2XvV8"
      },
      "source": [
        "# Importing libraries\n",
        "import pandas as pd\n",
        "import numpy as np\n",
        "import seaborn as sns\n",
        "import matplotlib.pyplot as plt"
      ],
      "execution_count": 209,
      "outputs": []
    },
    {
      "cell_type": "code",
      "metadata": {
        "id": "LJZ58ZxHk7OZ"
      },
      "source": [
        "# Load dataset\n",
        "df = pd.read_csv('/content/ab_data.csv')"
      ],
      "execution_count": 210,
      "outputs": []
    },
    {
      "cell_type": "code",
      "metadata": {
        "colab": {
          "base_uri": "https://localhost:8080/",
          "height": 204
        },
        "id": "L4KCGRDbYd7w",
        "outputId": "c1202206-ecd3-4461-bc8f-06b17ef85f29"
      },
      "source": [
        "# Examine the data\n",
        "df.head()"
      ],
      "execution_count": 211,
      "outputs": [
        {
          "output_type": "execute_result",
          "data": {
            "text/html": [
              "<div>\n",
              "<style scoped>\n",
              "    .dataframe tbody tr th:only-of-type {\n",
              "        vertical-align: middle;\n",
              "    }\n",
              "\n",
              "    .dataframe tbody tr th {\n",
              "        vertical-align: top;\n",
              "    }\n",
              "\n",
              "    .dataframe thead th {\n",
              "        text-align: right;\n",
              "    }\n",
              "</style>\n",
              "<table border=\"1\" class=\"dataframe\">\n",
              "  <thead>\n",
              "    <tr style=\"text-align: right;\">\n",
              "      <th></th>\n",
              "      <th>user_id</th>\n",
              "      <th>timestamp</th>\n",
              "      <th>group</th>\n",
              "      <th>landing_page</th>\n",
              "      <th>converted</th>\n",
              "    </tr>\n",
              "  </thead>\n",
              "  <tbody>\n",
              "    <tr>\n",
              "      <th>0</th>\n",
              "      <td>851104</td>\n",
              "      <td>2017-01-21 22:11:48.556739</td>\n",
              "      <td>control</td>\n",
              "      <td>old_page</td>\n",
              "      <td>0</td>\n",
              "    </tr>\n",
              "    <tr>\n",
              "      <th>1</th>\n",
              "      <td>804228</td>\n",
              "      <td>2017-01-12 08:01:45.159739</td>\n",
              "      <td>control</td>\n",
              "      <td>old_page</td>\n",
              "      <td>0</td>\n",
              "    </tr>\n",
              "    <tr>\n",
              "      <th>2</th>\n",
              "      <td>661590</td>\n",
              "      <td>2017-01-11 16:55:06.154213</td>\n",
              "      <td>treatment</td>\n",
              "      <td>new_page</td>\n",
              "      <td>0</td>\n",
              "    </tr>\n",
              "    <tr>\n",
              "      <th>3</th>\n",
              "      <td>853541</td>\n",
              "      <td>2017-01-08 18:28:03.143765</td>\n",
              "      <td>treatment</td>\n",
              "      <td>new_page</td>\n",
              "      <td>0</td>\n",
              "    </tr>\n",
              "    <tr>\n",
              "      <th>4</th>\n",
              "      <td>864975</td>\n",
              "      <td>2017-01-21 01:52:26.210827</td>\n",
              "      <td>control</td>\n",
              "      <td>old_page</td>\n",
              "      <td>1</td>\n",
              "    </tr>\n",
              "  </tbody>\n",
              "</table>\n",
              "</div>"
            ],
            "text/plain": [
              "   user_id                   timestamp      group landing_page  converted\n",
              "0   851104  2017-01-21 22:11:48.556739    control     old_page          0\n",
              "1   804228  2017-01-12 08:01:45.159739    control     old_page          0\n",
              "2   661590  2017-01-11 16:55:06.154213  treatment     new_page          0\n",
              "3   853541  2017-01-08 18:28:03.143765  treatment     new_page          0\n",
              "4   864975  2017-01-21 01:52:26.210827    control     old_page          1"
            ]
          },
          "metadata": {},
          "execution_count": 211
        }
      ]
    },
    {
      "cell_type": "code",
      "metadata": {
        "colab": {
          "base_uri": "https://localhost:8080/"
        },
        "id": "NgSPpVhIZk7m",
        "outputId": "fee6af33-d518-4cac-cca5-2973bc051f1d"
      },
      "source": [
        "# Overview of all variables, their datatypes\n",
        "df.info()"
      ],
      "execution_count": 212,
      "outputs": [
        {
          "output_type": "stream",
          "name": "stdout",
          "text": [
            "<class 'pandas.core.frame.DataFrame'>\n",
            "RangeIndex: 294478 entries, 0 to 294477\n",
            "Data columns (total 5 columns):\n",
            " #   Column        Non-Null Count   Dtype \n",
            "---  ------        --------------   ----- \n",
            " 0   user_id       294478 non-null  int64 \n",
            " 1   timestamp     294478 non-null  object\n",
            " 2   group         294478 non-null  object\n",
            " 3   landing_page  294478 non-null  object\n",
            " 4   converted     294478 non-null  int64 \n",
            "dtypes: int64(2), object(3)\n",
            "memory usage: 11.2+ MB\n"
          ]
        }
      ]
    },
    {
      "cell_type": "markdown",
      "metadata": {
        "id": "nI3UISvpzG4-"
      },
      "source": [
        "**Preparing the data**"
      ]
    },
    {
      "cell_type": "code",
      "metadata": {
        "colab": {
          "base_uri": "https://localhost:8080/"
        },
        "id": "99Ry7Vhm469p",
        "outputId": "b575eb82-1d14-4ad3-831b-2e098aad4569"
      },
      "source": [
        "df['group'].value_counts()"
      ],
      "execution_count": 213,
      "outputs": [
        {
          "output_type": "execute_result",
          "data": {
            "text/plain": [
              "treatment    147276\n",
              "control      147202\n",
              "Name: group, dtype: int64"
            ]
          },
          "metadata": {},
          "execution_count": 213
        }
      ]
    },
    {
      "cell_type": "code",
      "metadata": {
        "colab": {
          "base_uri": "https://localhost:8080/",
          "height": 142
        },
        "id": "RnLeKv1lzffg",
        "outputId": "89d86744-49f3-45c2-b33b-0a281ff6d316"
      },
      "source": [
        "pd.crosstab(df['group'], df['landing_page'])"
      ],
      "execution_count": 214,
      "outputs": [
        {
          "output_type": "execute_result",
          "data": {
            "text/html": [
              "<div>\n",
              "<style scoped>\n",
              "    .dataframe tbody tr th:only-of-type {\n",
              "        vertical-align: middle;\n",
              "    }\n",
              "\n",
              "    .dataframe tbody tr th {\n",
              "        vertical-align: top;\n",
              "    }\n",
              "\n",
              "    .dataframe thead th {\n",
              "        text-align: right;\n",
              "    }\n",
              "</style>\n",
              "<table border=\"1\" class=\"dataframe\">\n",
              "  <thead>\n",
              "    <tr style=\"text-align: right;\">\n",
              "      <th>landing_page</th>\n",
              "      <th>new_page</th>\n",
              "      <th>old_page</th>\n",
              "    </tr>\n",
              "    <tr>\n",
              "      <th>group</th>\n",
              "      <th></th>\n",
              "      <th></th>\n",
              "    </tr>\n",
              "  </thead>\n",
              "  <tbody>\n",
              "    <tr>\n",
              "      <th>control</th>\n",
              "      <td>1928</td>\n",
              "      <td>145274</td>\n",
              "    </tr>\n",
              "    <tr>\n",
              "      <th>treatment</th>\n",
              "      <td>145311</td>\n",
              "      <td>1965</td>\n",
              "    </tr>\n",
              "  </tbody>\n",
              "</table>\n",
              "</div>"
            ],
            "text/plain": [
              "landing_page  new_page  old_page\n",
              "group                           \n",
              "control           1928    145274\n",
              "treatment       145311      1965"
            ]
          },
          "metadata": {},
          "execution_count": 214
        }
      ]
    },
    {
      "cell_type": "markdown",
      "metadata": {
        "id": "KV9tmT9L7gfh"
      },
      "source": [
        "For the rows where treatment is not aligned with new_page or control is not aligned with old_page, we cannot be sure if this row truly received the new or old page. "
      ]
    },
    {
      "cell_type": "code",
      "metadata": {
        "colab": {
          "base_uri": "https://localhost:8080/"
        },
        "id": "qec-EDTo7vt6",
        "outputId": "e4bd1c26-f6ac-4e90-bac5-8ff2822b25c4"
      },
      "source": [
        "# To make sure all the control group are seeing the old page \n",
        "df_old = df[df['group'] == 'control'][df['landing_page'] == 'old_page']"
      ],
      "execution_count": 215,
      "outputs": [
        {
          "output_type": "stream",
          "name": "stderr",
          "text": [
            "/usr/local/lib/python3.7/dist-packages/ipykernel_launcher.py:2: UserWarning: Boolean Series key will be reindexed to match DataFrame index.\n",
            "  \n"
          ]
        }
      ]
    },
    {
      "cell_type": "code",
      "metadata": {
        "colab": {
          "base_uri": "https://localhost:8080/"
        },
        "id": "p99u1O696hIf",
        "outputId": "7cb5d673-f89b-408e-ebed-4fb00a693348"
      },
      "source": [
        "# To make sure all the treatment group are seeing the new page \n",
        "df_new = df[df['group'] == 'treatment'][df['landing_page'] == 'new_page']"
      ],
      "execution_count": 216,
      "outputs": [
        {
          "output_type": "stream",
          "name": "stderr",
          "text": [
            "/usr/local/lib/python3.7/dist-packages/ipykernel_launcher.py:2: UserWarning: Boolean Series key will be reindexed to match DataFrame index.\n",
            "  \n"
          ]
        }
      ]
    },
    {
      "cell_type": "code",
      "metadata": {
        "id": "qqGprMii92I2"
      },
      "source": [
        "# Create a new dataset \n",
        "df = pd.concat([df_old, df_new])"
      ],
      "execution_count": 217,
      "outputs": []
    },
    {
      "cell_type": "code",
      "metadata": {
        "colab": {
          "base_uri": "https://localhost:8080/",
          "height": 204
        },
        "id": "pDYZZ9_o6A9G",
        "outputId": "48fffe2d-c8b0-483c-84a6-4d1d7596aa79"
      },
      "source": [
        "df.tail()"
      ],
      "execution_count": 218,
      "outputs": [
        {
          "output_type": "execute_result",
          "data": {
            "text/html": [
              "<div>\n",
              "<style scoped>\n",
              "    .dataframe tbody tr th:only-of-type {\n",
              "        vertical-align: middle;\n",
              "    }\n",
              "\n",
              "    .dataframe tbody tr th {\n",
              "        vertical-align: top;\n",
              "    }\n",
              "\n",
              "    .dataframe thead th {\n",
              "        text-align: right;\n",
              "    }\n",
              "</style>\n",
              "<table border=\"1\" class=\"dataframe\">\n",
              "  <thead>\n",
              "    <tr style=\"text-align: right;\">\n",
              "      <th></th>\n",
              "      <th>user_id</th>\n",
              "      <th>timestamp</th>\n",
              "      <th>group</th>\n",
              "      <th>landing_page</th>\n",
              "      <th>converted</th>\n",
              "    </tr>\n",
              "  </thead>\n",
              "  <tbody>\n",
              "    <tr>\n",
              "      <th>294462</th>\n",
              "      <td>677163</td>\n",
              "      <td>2017-01-03 19:41:51.902148</td>\n",
              "      <td>treatment</td>\n",
              "      <td>new_page</td>\n",
              "      <td>0</td>\n",
              "    </tr>\n",
              "    <tr>\n",
              "      <th>294465</th>\n",
              "      <td>925675</td>\n",
              "      <td>2017-01-07 20:38:26.346410</td>\n",
              "      <td>treatment</td>\n",
              "      <td>new_page</td>\n",
              "      <td>0</td>\n",
              "    </tr>\n",
              "    <tr>\n",
              "      <th>294468</th>\n",
              "      <td>643562</td>\n",
              "      <td>2017-01-02 19:20:05.460595</td>\n",
              "      <td>treatment</td>\n",
              "      <td>new_page</td>\n",
              "      <td>0</td>\n",
              "    </tr>\n",
              "    <tr>\n",
              "      <th>294472</th>\n",
              "      <td>822004</td>\n",
              "      <td>2017-01-04 03:36:46.071379</td>\n",
              "      <td>treatment</td>\n",
              "      <td>new_page</td>\n",
              "      <td>0</td>\n",
              "    </tr>\n",
              "    <tr>\n",
              "      <th>294477</th>\n",
              "      <td>715931</td>\n",
              "      <td>2017-01-16 12:40:24.467417</td>\n",
              "      <td>treatment</td>\n",
              "      <td>new_page</td>\n",
              "      <td>0</td>\n",
              "    </tr>\n",
              "  </tbody>\n",
              "</table>\n",
              "</div>"
            ],
            "text/plain": [
              "        user_id                   timestamp      group landing_page  converted\n",
              "294462   677163  2017-01-03 19:41:51.902148  treatment     new_page          0\n",
              "294465   925675  2017-01-07 20:38:26.346410  treatment     new_page          0\n",
              "294468   643562  2017-01-02 19:20:05.460595  treatment     new_page          0\n",
              "294472   822004  2017-01-04 03:36:46.071379  treatment     new_page          0\n",
              "294477   715931  2017-01-16 12:40:24.467417  treatment     new_page          0"
            ]
          },
          "metadata": {},
          "execution_count": 218
        }
      ]
    },
    {
      "cell_type": "code",
      "metadata": {
        "colab": {
          "base_uri": "https://localhost:8080/"
        },
        "id": "yJ5QuTLzgQX6",
        "outputId": "c3d67a4f-1212-4794-c28d-567483af8924"
      },
      "source": [
        "# The number of the unique user\n",
        "df['user_id'].nunique()"
      ],
      "execution_count": 219,
      "outputs": [
        {
          "output_type": "execute_result",
          "data": {
            "text/plain": [
              "290584"
            ]
          },
          "metadata": {},
          "execution_count": 219
        }
      ]
    },
    {
      "cell_type": "code",
      "metadata": {
        "colab": {
          "base_uri": "https://localhost:8080/"
        },
        "id": "5neAzpD3AMYw",
        "outputId": "47a24c29-37b6-4261-eba4-303927696f73"
      },
      "source": [
        "len(df.index)"
      ],
      "execution_count": 220,
      "outputs": [
        {
          "output_type": "execute_result",
          "data": {
            "text/plain": [
              "290585"
            ]
          },
          "metadata": {},
          "execution_count": 220
        }
      ]
    },
    {
      "cell_type": "markdown",
      "metadata": {
        "id": "4KoGIs6KgjHE"
      },
      "source": [
        "There is one user_id repeated in df."
      ]
    },
    {
      "cell_type": "code",
      "metadata": {
        "id": "e0UuAjgf5FDc"
      },
      "source": [
        "duplicates = df[df.duplicated(['user_id'], keep = False)]"
      ],
      "execution_count": 221,
      "outputs": []
    },
    {
      "cell_type": "code",
      "metadata": {
        "colab": {
          "base_uri": "https://localhost:8080/",
          "height": 111
        },
        "id": "cJh5KDir567K",
        "outputId": "79c64545-0d9e-4f88-baba-d564e6ae5b1b"
      },
      "source": [
        "duplicates.sort_values(['user_id'], ascending = False) "
      ],
      "execution_count": 222,
      "outputs": [
        {
          "output_type": "execute_result",
          "data": {
            "text/html": [
              "<div>\n",
              "<style scoped>\n",
              "    .dataframe tbody tr th:only-of-type {\n",
              "        vertical-align: middle;\n",
              "    }\n",
              "\n",
              "    .dataframe tbody tr th {\n",
              "        vertical-align: top;\n",
              "    }\n",
              "\n",
              "    .dataframe thead th {\n",
              "        text-align: right;\n",
              "    }\n",
              "</style>\n",
              "<table border=\"1\" class=\"dataframe\">\n",
              "  <thead>\n",
              "    <tr style=\"text-align: right;\">\n",
              "      <th></th>\n",
              "      <th>user_id</th>\n",
              "      <th>timestamp</th>\n",
              "      <th>group</th>\n",
              "      <th>landing_page</th>\n",
              "      <th>converted</th>\n",
              "    </tr>\n",
              "  </thead>\n",
              "  <tbody>\n",
              "    <tr>\n",
              "      <th>1899</th>\n",
              "      <td>773192</td>\n",
              "      <td>2017-01-09 05:37:58.781806</td>\n",
              "      <td>treatment</td>\n",
              "      <td>new_page</td>\n",
              "      <td>0</td>\n",
              "    </tr>\n",
              "    <tr>\n",
              "      <th>2893</th>\n",
              "      <td>773192</td>\n",
              "      <td>2017-01-14 02:55:59.590927</td>\n",
              "      <td>treatment</td>\n",
              "      <td>new_page</td>\n",
              "      <td>0</td>\n",
              "    </tr>\n",
              "  </tbody>\n",
              "</table>\n",
              "</div>"
            ],
            "text/plain": [
              "      user_id                   timestamp      group landing_page  converted\n",
              "1899   773192  2017-01-09 05:37:58.781806  treatment     new_page          0\n",
              "2893   773192  2017-01-14 02:55:59.590927  treatment     new_page          0"
            ]
          },
          "metadata": {},
          "execution_count": 222
        }
      ]
    },
    {
      "cell_type": "code",
      "metadata": {
        "id": "mRQRaubuCSfn"
      },
      "source": [
        "# Remove one of the rows with a duplicate user_id\n",
        "df.drop_duplicates(subset = 'user_id', keep = 'first', inplace = True)"
      ],
      "execution_count": 223,
      "outputs": []
    },
    {
      "cell_type": "code",
      "metadata": {
        "colab": {
          "base_uri": "https://localhost:8080/"
        },
        "id": "kuRt8PeCa0XS",
        "outputId": "0539e35d-4976-4e3c-e7c5-0cdc49fe290e"
      },
      "source": [
        "df['user_id'].nunique()"
      ],
      "execution_count": 224,
      "outputs": [
        {
          "output_type": "execute_result",
          "data": {
            "text/plain": [
              "290584"
            ]
          },
          "metadata": {},
          "execution_count": 224
        }
      ]
    },
    {
      "cell_type": "code",
      "metadata": {
        "colab": {
          "base_uri": "https://localhost:8080/"
        },
        "id": "z0Uxon3Qaqng",
        "outputId": "9edd1a90-1d43-4e44-d330-453276d237f6"
      },
      "source": [
        "len(df.index)"
      ],
      "execution_count": 225,
      "outputs": [
        {
          "output_type": "execute_result",
          "data": {
            "text/plain": [
              "290584"
            ]
          },
          "metadata": {},
          "execution_count": 225
        }
      ]
    },
    {
      "cell_type": "code",
      "metadata": {
        "id": "tdrxg7sqAkAz"
      },
      "source": [
        "import scipy.stats as stats"
      ],
      "execution_count": 226,
      "outputs": []
    },
    {
      "cell_type": "code",
      "metadata": {
        "colab": {
          "base_uri": "https://localhost:8080/"
        },
        "id": "oNQZRQ9EjJu7",
        "outputId": "4e708a7e-10c9-4b87-af05-b3cef9c59d1b"
      },
      "source": [
        "# What is the probability of an individual converting regardless of the page they receive?\n",
        "df['converted'].mean()"
      ],
      "execution_count": 227,
      "outputs": [
        {
          "output_type": "execute_result",
          "data": {
            "text/plain": [
              "0.11959708724499628"
            ]
          },
          "metadata": {},
          "execution_count": 227
        }
      ]
    },
    {
      "cell_type": "code",
      "metadata": {
        "colab": {
          "base_uri": "https://localhost:8080/"
        },
        "id": "csrB4z_6juzt",
        "outputId": "68864ea6-f12a-44f0-e01d-83cb2fcce713"
      },
      "source": [
        "# Given that an individual was in the control group, what is the probability they converted?\n",
        "df[df['group'] == 'control']['converted'].mean()"
      ],
      "execution_count": 228,
      "outputs": [
        {
          "output_type": "execute_result",
          "data": {
            "text/plain": [
              "0.1203863045004612"
            ]
          },
          "metadata": {},
          "execution_count": 228
        }
      ]
    },
    {
      "cell_type": "code",
      "metadata": {
        "colab": {
          "base_uri": "https://localhost:8080/"
        },
        "id": "KWR4hbkDjUjF",
        "outputId": "d9a98b27-516f-4b81-a573-b2bf56e1c58a"
      },
      "source": [
        "# Given that an individual was in the treatment group, what is the probability they converted?\n",
        "df[df['group'] == 'treatment']['converted'].mean()"
      ],
      "execution_count": 229,
      "outputs": [
        {
          "output_type": "execute_result",
          "data": {
            "text/plain": [
              "0.11880806551510564"
            ]
          },
          "metadata": {},
          "execution_count": 229
        }
      ]
    },
    {
      "cell_type": "markdown",
      "metadata": {
        "id": "NNXk3uA0BOB2"
      },
      "source": [
        "There is no suffient evidence to support the statement that one page leads to more conversions. For the reason that the converted rate of the treatment group is approximately 11.9% while the converted rate of the control group is approximately 12.0%. We can see the two results are pretty close to each other, we can not make a conclusion that the treatment group take effect or vice versa. In order to make that conclution, we need to make further experiments such as A/B testing."
      ]
    },
    {
      "cell_type": "markdown",
      "metadata": {
        "id": "iubHoezHAQRU"
      },
      "source": [
        "**Choosing a sample size**"
      ]
    },
    {
      "cell_type": "markdown",
      "metadata": {
        "id": "mvj1m3jH5ta5"
      },
      "source": [
        "Having a required sample size is one of the important cornerstones of a successful A/B test and is dependant on 3 factors:\n",
        "\n",
        "* **Statistical power** (usually 1 − $ 𝛽 $ = 0.8): The ability of the experiment to correctly identify a positive change, given that there is indeed one.\n",
        "\n",
        "* **Significant level** ($ 𝛼 $ = 0.05): The probability of wrongly identifying a positive change, when there is actually none.\n",
        "\n",
        "* **Minimum detectable effect** (MDE, or $ 𝐷_{𝑚𝑖𝑛} $): The minimum change that the business would like to detect in this test."
      ]
    },
    {
      "cell_type": "markdown",
      "metadata": {
        "id": "7Fegbnuoug2q"
      },
      "source": [
        "The A/B test can begin to go bad when a sample size is not calculated before the A/B test, or 'peeking' at your results before the total number of observations is less than your minimum sample size and concluding prematurely when you think you've achieved a positive result. Usually if an A/B test is running and there aren't enough users to match the required sample size, the 3 factors would have to be adjusted to lower the minimium sample size."
      ]
    },
    {
      "cell_type": "markdown",
      "metadata": {
        "id": "O5TWY-fxRfAj"
      },
      "source": [
        "One evaluation metric we want to define will be the increase in conversions. For this metric, we want to define $ 𝐷_{𝑚𝑖𝑛} $ : the minimum change which is practically significant to the business. In this case, the practical minimum difference would be the 0.35%, closely related to our business objectives of increasing our current conversion rates of 12% by 0.35%. Therefore, we'll set $ 𝐷_{𝑚𝑖𝑛} $ = 0.0035.\n",
        "\n",
        "\n",
        "\n",
        "This online calculator does a great job of calculating sample size: https://www.evanmiller.org/ab-testing/sample-size.html\n",
        "\n",
        "However, we're going to manually calculate the required sample size using the Evan Miller's Calculator:\n"
      ]
    },
    {
      "cell_type": "code",
      "metadata": {
        "id": "eH9GuUEksHJn"
      },
      "source": [
        "import scipy.stats as ss\n",
        "import math"
      ],
      "execution_count": 230,
      "outputs": []
    },
    {
      "cell_type": "code",
      "metadata": {
        "id": "z0zOK7GZs0py"
      },
      "source": [
        "# Function for getting z-scores for alpha\n",
        "def get_z_score(alpha):\n",
        "    \n",
        "    return ss.norm.ppf(alpha)"
      ],
      "execution_count": 231,
      "outputs": []
    },
    {
      "cell_type": "code",
      "metadata": {
        "id": "RSnhYigs_jbD"
      },
      "source": [
        "# Calculating the minimum sample size for the a/b test\n",
        "def get_sample_size(sds, alpha, beta, d):\n",
        "    \n",
        "    n = pow((get_z_score(1 - alpha / 2) * sds[0] + get_z_score(1 - beta) * sds[1]), 2) / pow(d, 2)\n",
        "    \n",
        "    return n"
      ],
      "execution_count": 232,
      "outputs": []
    },
    {
      "cell_type": "code",
      "metadata": {
        "id": "T6z6KNvJqStt"
      },
      "source": [
        "# Baseline + Expected change standard deviation calculations\n",
        "def get_sds(p, d):\n",
        "    \n",
        "    sd1 = math.sqrt(2 * p * (1 - p))\n",
        "    sd2 = math.sqrt(p * (1 - p) + (p + d) * (1 - (p + d)))\n",
        "    sds = [sd1, sd2]\n",
        "    \n",
        "    return sds"
      ],
      "execution_count": 233,
      "outputs": []
    },
    {
      "cell_type": "code",
      "metadata": {
        "colab": {
          "base_uri": "https://localhost:8080/"
        },
        "id": "KaZEXr-xqth1",
        "outputId": "bf689a3b-9dc5-4327-cd91-9dff8ffff688"
      },
      "source": [
        "# Using Evan Miller's Calculator but deriving the values ourselves\n",
        "round(get_sample_size(get_sds(0.12, 0.0035), 0.05, 0.2, 0.0035))"
      ],
      "execution_count": 234,
      "outputs": [
        {
          "output_type": "execute_result",
          "data": {
            "text/plain": [
              "135830"
            ]
          },
          "metadata": {},
          "execution_count": 234
        }
      ]
    },
    {
      "cell_type": "markdown",
      "metadata": {
        "id": "-rp7xEORywgY"
      },
      "source": [
        "When using Evan Miller's calculator, the minimum sample size per per variation = 135,830. Given we have 2 variations (control and treatment): the total minimum sample size = 271,660. Since we have a total sample size of 290,584, our A/B test will have enough statistical power and significance."
      ]
    },
    {
      "cell_type": "markdown",
      "metadata": {
        "id": "N3b4xqQ80fdM"
      },
      "source": [
        "**Testing the hypothesis**"
      ]
    },
    {
      "cell_type": "markdown",
      "metadata": {
        "id": "NoGu76wg0bLF"
      },
      "source": [
        "We can use existing packages to calculate our test statistic and p-values and test for proportions based on the z-test. "
      ]
    },
    {
      "cell_type": "code",
      "metadata": {
        "id": "J9ddUSKhruRk"
      },
      "source": [
        "from statsmodels.stats.proportion import proportions_ztest"
      ],
      "execution_count": 235,
      "outputs": []
    },
    {
      "cell_type": "code",
      "metadata": {
        "colab": {
          "base_uri": "https://localhost:8080/"
        },
        "id": "Gvjx_ytxKLgW",
        "outputId": "89b820ab-1e4e-432f-d1c4-b4aeb29652b0"
      },
      "source": [
        "# The number of successes in nobs trials\n",
        "converted_old = len(df[df.landing_page == 'old_page'][df.converted == 1])"
      ],
      "execution_count": 236,
      "outputs": [
        {
          "output_type": "stream",
          "name": "stderr",
          "text": [
            "/usr/local/lib/python3.7/dist-packages/ipykernel_launcher.py:2: UserWarning: Boolean Series key will be reindexed to match DataFrame index.\n",
            "  \n"
          ]
        }
      ]
    },
    {
      "cell_type": "code",
      "metadata": {
        "colab": {
          "base_uri": "https://localhost:8080/"
        },
        "id": "Mp_6NR9NKOaQ",
        "outputId": "db9eaf62-eb3b-45e0-aa15-3be37fcd4844"
      },
      "source": [
        "converted_new = len(df[df.landing_page == 'new_page'][df.converted == 1])"
      ],
      "execution_count": 237,
      "outputs": [
        {
          "output_type": "stream",
          "name": "stderr",
          "text": [
            "/usr/local/lib/python3.7/dist-packages/ipykernel_launcher.py:1: UserWarning: Boolean Series key will be reindexed to match DataFrame index.\n",
            "  \"\"\"Entry point for launching an IPython kernel.\n"
          ]
        }
      ]
    },
    {
      "cell_type": "code",
      "metadata": {
        "id": "DtJa4PgWJpny"
      },
      "source": [
        "# The number of trials or observations\n",
        "n_old = len(df[df.landing_page == 'old_page'])"
      ],
      "execution_count": 238,
      "outputs": []
    },
    {
      "cell_type": "code",
      "metadata": {
        "id": "WlIhDubDJzAG"
      },
      "source": [
        "n_new = len(df[df.landing_page == 'new_page'])"
      ],
      "execution_count": 239,
      "outputs": []
    },
    {
      "cell_type": "code",
      "metadata": {
        "id": "P8rrLkSFKvnR"
      },
      "source": [
        "import statsmodels.api as sm\n",
        "from statsmodels.stats.proportion import proportions_ztest"
      ],
      "execution_count": 240,
      "outputs": []
    },
    {
      "cell_type": "code",
      "metadata": {
        "id": "vVyuLL-NkwnU"
      },
      "source": [
        "# Conducting the z test\n",
        "stat, p_val = sm.stats.proportions_ztest([converted_old, converted_new], [n_old, n_new], alternative = 'smaller')"
      ],
      "execution_count": 241,
      "outputs": []
    },
    {
      "cell_type": "code",
      "metadata": {
        "colab": {
          "base_uri": "https://localhost:8080/"
        },
        "id": "ObbHOP6Lkx5W",
        "outputId": "09a67181-9cc7-4d0f-a9f1-b85bae5576f9"
      },
      "source": [
        "# Test statistic for the z-test\n",
        "stat"
      ],
      "execution_count": 242,
      "outputs": [
        {
          "output_type": "execute_result",
          "data": {
            "text/plain": [
              "1.3109241984234394"
            ]
          },
          "metadata": {},
          "execution_count": 242
        }
      ]
    },
    {
      "cell_type": "code",
      "metadata": {
        "colab": {
          "base_uri": "https://localhost:8080/"
        },
        "id": "64FHj3cK0NPc",
        "outputId": "d40bb671-7454-491b-a059-6b8dd790f4a7"
      },
      "source": [
        "# P-value for the z-test\n",
        "p_val"
      ],
      "execution_count": 243,
      "outputs": [
        {
          "output_type": "execute_result",
          "data": {
            "text/plain": [
              "0.9050583127590245"
            ]
          },
          "metadata": {},
          "execution_count": 243
        }
      ]
    },
    {
      "cell_type": "markdown",
      "metadata": {
        "id": "5Fe0cdzu2bCE"
      },
      "source": [
        "**Drawing conclusions**"
      ]
    },
    {
      "cell_type": "markdown",
      "metadata": {
        "id": "h6nxkWr3Xswi"
      },
      "source": [
        "Since our **p-value = 0.905 is way above our $ α $ = 0.05** threshold, we cannot reject the null hypothesis, which means that **our new design did not perform significantly different (let alone better) than our old one**.\n"
      ]
    }
  ]
}