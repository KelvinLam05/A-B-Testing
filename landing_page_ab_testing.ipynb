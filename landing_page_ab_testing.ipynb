{
  "nbformat": 4,
  "nbformat_minor": 0,
  "metadata": {
    "colab": {
      "name": "landing_page_ab_testing.ipynb",
      "provenance": [],
      "collapsed_sections": [],
      "authorship_tag": "ABX9TyMZvjSfVXaR+1XPuUQs5lDD",
      "include_colab_link": true
    },
    "kernelspec": {
      "name": "python3",
      "display_name": "Python 3"
    },
    "language_info": {
      "name": "python"
    }
  },
  "cells": [
    {
      "cell_type": "markdown",
      "metadata": {
        "id": "view-in-github",
        "colab_type": "text"
      },
      "source": [
        "<a href=\"https://colab.research.google.com/github/KelvinLam05/ab_testing/blob/main/landing_page_ab_testing.ipynb\" target=\"_parent\"><img src=\"https://colab.research.google.com/assets/colab-badge.svg\" alt=\"Open In Colab\"/></a>"
      ]
    },
    {
      "cell_type": "markdown",
      "source": [
        "**Goal of the project**"
      ],
      "metadata": {
        "id": "lObo7lh59JKv"
      }
    },
    {
      "cell_type": "markdown",
      "metadata": {
        "id": "k2MdgDDd68Za"
      },
      "source": [
        "In this notebook, we will be working to understand the results of an A/B test run by an e-commerce website. The company has developed a new web page in order to try and increase the number of users who \"convert,\" meaning the number of users who decide to pay for the company's product. Our goal is to work through this notebook to help the company understand if they should implement this new page, keep the old page, or perhaps run the experiment longer to make their decision."
      ]
    },
    {
      "cell_type": "markdown",
      "metadata": {
        "id": "gJGhzxR5xYGL"
      },
      "source": [
        "**Attribute information**\n",
        "\n",
        "* user_id : The user ID of each session\n",
        "\n",
        "* timestamp : Timestamp for the session\n",
        "\n",
        "* group : Which group the user was assigned to for that session {control, treatment}\n",
        "\n",
        "* landing_page : Which design each user saw on that session {old_page, new_page}\n",
        "\n",
        "* converted : Whether the session ended in a conversion or not (binary, 0 = not converted, 1 = converted)\n"
      ]
    },
    {
      "cell_type": "markdown",
      "source": [
        "**Possible scenario**"
      ],
      "metadata": {
        "id": "IBw1L7bk9Nma"
      }
    },
    {
      "cell_type": "markdown",
      "metadata": {
        "id": "lDHuhrv37OTn"
      },
      "source": [
        "To make it a bit more realistic, here’s a potential scenario for our study:\n",
        "\n",
        "*Let’s imagine we work on the product team at a medium-sized online e-commerce business. The UX designer worked really hard on a new version of the product page, with the hope that it will lead to a higher conversion rate. The product manager (PM) told us that the current conversion rate is about 12% on average throughout the year, and that the team would be happy with an increase of 0.35%, meaning that the new design will be considered a success if it raises the conversion rate to 12.35%.*"
      ]
    },
    {
      "cell_type": "markdown",
      "source": [
        "**Formulating a hypothesis**"
      ],
      "metadata": {
        "id": "r9w5d0NS9Y0d"
      }
    },
    {
      "cell_type": "markdown",
      "metadata": {
        "id": "8UOhSQVs8SZk"
      },
      "source": [
        "First things first, we want to make sure we formulate a hypothesis at the start of our project. This will make sure our interpretation of the results is correct as well as rigorous.\n",
        "\n",
        "$ H_{0}: p_{old} ≥ p_{new} $\n",
        "\n",
        "$ H_{1}: p_{old} < p_{new} $\n",
        "\n",
        "where $ p_{old} $ and $ p_{new} $ stand for the conversion rate of the new and old design, respectively. We’ll also set a confidence level of 95%:\n",
        "\n",
        "α = 0.05 \n",
        "\n",
        "The α value is a threshold we set, by which we say “if the probability of observing a result as extreme or more (p-value) is lower than α, then we reject the null hypothesis”. Since our α = 0.05 (indicating 5% probability), our confidence (1 — α) is 95%.\n"
      ]
    },
    {
      "cell_type": "markdown",
      "source": [
        "**Choosing the variables**"
      ],
      "metadata": {
        "id": "LaddT2fX9Svz"
      }
    },
    {
      "cell_type": "markdown",
      "metadata": {
        "id": "QALNeor5-gcj"
      },
      "source": [
        "For our test we’ll need two groups:\n",
        "\n",
        "* A control group - They'll be shown the old design\n",
        "\n",
        "* A treatment (or experimental) group - They'll be shown the new design\n",
        "\n",
        "This will be our *Independent Variable*. The reason we have two groups even though we know the baseline conversion rate is that we want to control for other variables that could have an effect on our results, such as seasonality: by having a control group we can directly compare their results to the treatment group, because the only systematic difference between the groups is the design of the product page, and we can therefore attribute any differences in results to the designs.\n",
        "\n",
        "For our *Dependent Variable* (i.e. what we are trying to measure), we are interested in capturing the conversion rate. A way we can code this is by each user session with a binary variable:\n",
        "\n",
        "* 0 - The user did not buy the product during this user session\n",
        "\n",
        "* 1 - The user bought the product during this user session"
      ]
    },
    {
      "cell_type": "markdown",
      "metadata": {
        "id": "X9OhMa0sy9wm"
      },
      "source": [
        "**Collecting the data**"
      ]
    },
    {
      "cell_type": "code",
      "metadata": {
        "id": "36_KiuS2XvV8"
      },
      "source": [
        "# Importing libraries\n",
        "import pandas as pd\n",
        "import numpy as np\n",
        "import seaborn as sns\n",
        "import matplotlib.pyplot as plt"
      ],
      "execution_count": null,
      "outputs": []
    },
    {
      "cell_type": "code",
      "metadata": {
        "id": "LJZ58ZxHk7OZ"
      },
      "source": [
        "# Load dataset\n",
        "df = pd.read_csv('/content/landing_page_ab_testing.csv')"
      ],
      "execution_count": null,
      "outputs": []
    },
    {
      "cell_type": "code",
      "metadata": {
        "colab": {
          "base_uri": "https://localhost:8080/",
          "height": 204
        },
        "id": "L4KCGRDbYd7w",
        "outputId": "92d94764-fa81-4de8-9690-59be5fe4bcb7"
      },
      "source": [
        "# Examine the data\n",
        "df.head()"
      ],
      "execution_count": null,
      "outputs": [
        {
          "output_type": "execute_result",
          "data": {
            "text/html": [
              "\n",
              "  <div id=\"df-be43f293-8d19-4856-8f0a-eb1cc2d3f27a\">\n",
              "    <div class=\"colab-df-container\">\n",
              "      <div>\n",
              "<style scoped>\n",
              "    .dataframe tbody tr th:only-of-type {\n",
              "        vertical-align: middle;\n",
              "    }\n",
              "\n",
              "    .dataframe tbody tr th {\n",
              "        vertical-align: top;\n",
              "    }\n",
              "\n",
              "    .dataframe thead th {\n",
              "        text-align: right;\n",
              "    }\n",
              "</style>\n",
              "<table border=\"1\" class=\"dataframe\">\n",
              "  <thead>\n",
              "    <tr style=\"text-align: right;\">\n",
              "      <th></th>\n",
              "      <th>user_id</th>\n",
              "      <th>timestamp</th>\n",
              "      <th>group</th>\n",
              "      <th>landing_page</th>\n",
              "      <th>converted</th>\n",
              "    </tr>\n",
              "  </thead>\n",
              "  <tbody>\n",
              "    <tr>\n",
              "      <th>0</th>\n",
              "      <td>851104</td>\n",
              "      <td>2017-01-21 22:11:48.556739</td>\n",
              "      <td>control</td>\n",
              "      <td>old_page</td>\n",
              "      <td>0</td>\n",
              "    </tr>\n",
              "    <tr>\n",
              "      <th>1</th>\n",
              "      <td>804228</td>\n",
              "      <td>2017-01-12 08:01:45.159739</td>\n",
              "      <td>control</td>\n",
              "      <td>old_page</td>\n",
              "      <td>0</td>\n",
              "    </tr>\n",
              "    <tr>\n",
              "      <th>2</th>\n",
              "      <td>661590</td>\n",
              "      <td>2017-01-11 16:55:06.154213</td>\n",
              "      <td>treatment</td>\n",
              "      <td>new_page</td>\n",
              "      <td>0</td>\n",
              "    </tr>\n",
              "    <tr>\n",
              "      <th>3</th>\n",
              "      <td>853541</td>\n",
              "      <td>2017-01-08 18:28:03.143765</td>\n",
              "      <td>treatment</td>\n",
              "      <td>new_page</td>\n",
              "      <td>0</td>\n",
              "    </tr>\n",
              "    <tr>\n",
              "      <th>4</th>\n",
              "      <td>864975</td>\n",
              "      <td>2017-01-21 01:52:26.210827</td>\n",
              "      <td>control</td>\n",
              "      <td>old_page</td>\n",
              "      <td>1</td>\n",
              "    </tr>\n",
              "  </tbody>\n",
              "</table>\n",
              "</div>\n",
              "      <button class=\"colab-df-convert\" onclick=\"convertToInteractive('df-be43f293-8d19-4856-8f0a-eb1cc2d3f27a')\"\n",
              "              title=\"Convert this dataframe to an interactive table.\"\n",
              "              style=\"display:none;\">\n",
              "        \n",
              "  <svg xmlns=\"http://www.w3.org/2000/svg\" height=\"24px\"viewBox=\"0 0 24 24\"\n",
              "       width=\"24px\">\n",
              "    <path d=\"M0 0h24v24H0V0z\" fill=\"none\"/>\n",
              "    <path d=\"M18.56 5.44l.94 2.06.94-2.06 2.06-.94-2.06-.94-.94-2.06-.94 2.06-2.06.94zm-11 1L8.5 8.5l.94-2.06 2.06-.94-2.06-.94L8.5 2.5l-.94 2.06-2.06.94zm10 10l.94 2.06.94-2.06 2.06-.94-2.06-.94-.94-2.06-.94 2.06-2.06.94z\"/><path d=\"M17.41 7.96l-1.37-1.37c-.4-.4-.92-.59-1.43-.59-.52 0-1.04.2-1.43.59L10.3 9.45l-7.72 7.72c-.78.78-.78 2.05 0 2.83L4 21.41c.39.39.9.59 1.41.59.51 0 1.02-.2 1.41-.59l7.78-7.78 2.81-2.81c.8-.78.8-2.07 0-2.86zM5.41 20L4 18.59l7.72-7.72 1.47 1.35L5.41 20z\"/>\n",
              "  </svg>\n",
              "      </button>\n",
              "      \n",
              "  <style>\n",
              "    .colab-df-container {\n",
              "      display:flex;\n",
              "      flex-wrap:wrap;\n",
              "      gap: 12px;\n",
              "    }\n",
              "\n",
              "    .colab-df-convert {\n",
              "      background-color: #E8F0FE;\n",
              "      border: none;\n",
              "      border-radius: 50%;\n",
              "      cursor: pointer;\n",
              "      display: none;\n",
              "      fill: #1967D2;\n",
              "      height: 32px;\n",
              "      padding: 0 0 0 0;\n",
              "      width: 32px;\n",
              "    }\n",
              "\n",
              "    .colab-df-convert:hover {\n",
              "      background-color: #E2EBFA;\n",
              "      box-shadow: 0px 1px 2px rgba(60, 64, 67, 0.3), 0px 1px 3px 1px rgba(60, 64, 67, 0.15);\n",
              "      fill: #174EA6;\n",
              "    }\n",
              "\n",
              "    [theme=dark] .colab-df-convert {\n",
              "      background-color: #3B4455;\n",
              "      fill: #D2E3FC;\n",
              "    }\n",
              "\n",
              "    [theme=dark] .colab-df-convert:hover {\n",
              "      background-color: #434B5C;\n",
              "      box-shadow: 0px 1px 3px 1px rgba(0, 0, 0, 0.15);\n",
              "      filter: drop-shadow(0px 1px 2px rgba(0, 0, 0, 0.3));\n",
              "      fill: #FFFFFF;\n",
              "    }\n",
              "  </style>\n",
              "\n",
              "      <script>\n",
              "        const buttonEl =\n",
              "          document.querySelector('#df-be43f293-8d19-4856-8f0a-eb1cc2d3f27a button.colab-df-convert');\n",
              "        buttonEl.style.display =\n",
              "          google.colab.kernel.accessAllowed ? 'block' : 'none';\n",
              "\n",
              "        async function convertToInteractive(key) {\n",
              "          const element = document.querySelector('#df-be43f293-8d19-4856-8f0a-eb1cc2d3f27a');\n",
              "          const dataTable =\n",
              "            await google.colab.kernel.invokeFunction('convertToInteractive',\n",
              "                                                     [key], {});\n",
              "          if (!dataTable) return;\n",
              "\n",
              "          const docLinkHtml = 'Like what you see? Visit the ' +\n",
              "            '<a target=\"_blank\" href=https://colab.research.google.com/notebooks/data_table.ipynb>data table notebook</a>'\n",
              "            + ' to learn more about interactive tables.';\n",
              "          element.innerHTML = '';\n",
              "          dataTable['output_type'] = 'display_data';\n",
              "          await google.colab.output.renderOutput(dataTable, element);\n",
              "          const docLink = document.createElement('div');\n",
              "          docLink.innerHTML = docLinkHtml;\n",
              "          element.appendChild(docLink);\n",
              "        }\n",
              "      </script>\n",
              "    </div>\n",
              "  </div>\n",
              "  "
            ],
            "text/plain": [
              "   user_id                   timestamp      group landing_page  converted\n",
              "0   851104  2017-01-21 22:11:48.556739    control     old_page          0\n",
              "1   804228  2017-01-12 08:01:45.159739    control     old_page          0\n",
              "2   661590  2017-01-11 16:55:06.154213  treatment     new_page          0\n",
              "3   853541  2017-01-08 18:28:03.143765  treatment     new_page          0\n",
              "4   864975  2017-01-21 01:52:26.210827    control     old_page          1"
            ]
          },
          "metadata": {},
          "execution_count": 7
        }
      ]
    },
    {
      "cell_type": "code",
      "metadata": {
        "colab": {
          "base_uri": "https://localhost:8080/"
        },
        "id": "NgSPpVhIZk7m",
        "outputId": "5897451a-5004-4260-f97d-d9b868f7fcae"
      },
      "source": [
        "# Overview of all variables, their datatypes\n",
        "df.info()"
      ],
      "execution_count": null,
      "outputs": [
        {
          "output_type": "stream",
          "name": "stdout",
          "text": [
            "<class 'pandas.core.frame.DataFrame'>\n",
            "RangeIndex: 294478 entries, 0 to 294477\n",
            "Data columns (total 5 columns):\n",
            " #   Column        Non-Null Count   Dtype \n",
            "---  ------        --------------   ----- \n",
            " 0   user_id       294478 non-null  int64 \n",
            " 1   timestamp     294478 non-null  object\n",
            " 2   group         294478 non-null  object\n",
            " 3   landing_page  294478 non-null  object\n",
            " 4   converted     294478 non-null  int64 \n",
            "dtypes: int64(2), object(3)\n",
            "memory usage: 11.2+ MB\n"
          ]
        }
      ]
    },
    {
      "cell_type": "markdown",
      "metadata": {
        "id": "nI3UISvpzG4-"
      },
      "source": [
        "**Preparing the data**"
      ]
    },
    {
      "cell_type": "code",
      "metadata": {
        "colab": {
          "base_uri": "https://localhost:8080/"
        },
        "id": "99Ry7Vhm469p",
        "outputId": "c009cfe7-bc29-4bf1-bd41-57b2765f9c76"
      },
      "source": [
        "df['group'].value_counts()"
      ],
      "execution_count": null,
      "outputs": [
        {
          "output_type": "execute_result",
          "data": {
            "text/plain": [
              "treatment    147276\n",
              "control      147202\n",
              "Name: group, dtype: int64"
            ]
          },
          "metadata": {},
          "execution_count": 9
        }
      ]
    },
    {
      "cell_type": "code",
      "metadata": {
        "colab": {
          "base_uri": "https://localhost:8080/",
          "height": 142
        },
        "id": "RnLeKv1lzffg",
        "outputId": "4a42504a-3d8b-4e7d-9cba-63a2739b9977"
      },
      "source": [
        "pd.crosstab(df['group'], df['landing_page'])"
      ],
      "execution_count": null,
      "outputs": [
        {
          "output_type": "execute_result",
          "data": {
            "text/html": [
              "\n",
              "  <div id=\"df-6c1dea8e-24b7-4156-8d99-35900fe27ac1\">\n",
              "    <div class=\"colab-df-container\">\n",
              "      <div>\n",
              "<style scoped>\n",
              "    .dataframe tbody tr th:only-of-type {\n",
              "        vertical-align: middle;\n",
              "    }\n",
              "\n",
              "    .dataframe tbody tr th {\n",
              "        vertical-align: top;\n",
              "    }\n",
              "\n",
              "    .dataframe thead th {\n",
              "        text-align: right;\n",
              "    }\n",
              "</style>\n",
              "<table border=\"1\" class=\"dataframe\">\n",
              "  <thead>\n",
              "    <tr style=\"text-align: right;\">\n",
              "      <th>landing_page</th>\n",
              "      <th>new_page</th>\n",
              "      <th>old_page</th>\n",
              "    </tr>\n",
              "    <tr>\n",
              "      <th>group</th>\n",
              "      <th></th>\n",
              "      <th></th>\n",
              "    </tr>\n",
              "  </thead>\n",
              "  <tbody>\n",
              "    <tr>\n",
              "      <th>control</th>\n",
              "      <td>1928</td>\n",
              "      <td>145274</td>\n",
              "    </tr>\n",
              "    <tr>\n",
              "      <th>treatment</th>\n",
              "      <td>145311</td>\n",
              "      <td>1965</td>\n",
              "    </tr>\n",
              "  </tbody>\n",
              "</table>\n",
              "</div>\n",
              "      <button class=\"colab-df-convert\" onclick=\"convertToInteractive('df-6c1dea8e-24b7-4156-8d99-35900fe27ac1')\"\n",
              "              title=\"Convert this dataframe to an interactive table.\"\n",
              "              style=\"display:none;\">\n",
              "        \n",
              "  <svg xmlns=\"http://www.w3.org/2000/svg\" height=\"24px\"viewBox=\"0 0 24 24\"\n",
              "       width=\"24px\">\n",
              "    <path d=\"M0 0h24v24H0V0z\" fill=\"none\"/>\n",
              "    <path d=\"M18.56 5.44l.94 2.06.94-2.06 2.06-.94-2.06-.94-.94-2.06-.94 2.06-2.06.94zm-11 1L8.5 8.5l.94-2.06 2.06-.94-2.06-.94L8.5 2.5l-.94 2.06-2.06.94zm10 10l.94 2.06.94-2.06 2.06-.94-2.06-.94-.94-2.06-.94 2.06-2.06.94z\"/><path d=\"M17.41 7.96l-1.37-1.37c-.4-.4-.92-.59-1.43-.59-.52 0-1.04.2-1.43.59L10.3 9.45l-7.72 7.72c-.78.78-.78 2.05 0 2.83L4 21.41c.39.39.9.59 1.41.59.51 0 1.02-.2 1.41-.59l7.78-7.78 2.81-2.81c.8-.78.8-2.07 0-2.86zM5.41 20L4 18.59l7.72-7.72 1.47 1.35L5.41 20z\"/>\n",
              "  </svg>\n",
              "      </button>\n",
              "      \n",
              "  <style>\n",
              "    .colab-df-container {\n",
              "      display:flex;\n",
              "      flex-wrap:wrap;\n",
              "      gap: 12px;\n",
              "    }\n",
              "\n",
              "    .colab-df-convert {\n",
              "      background-color: #E8F0FE;\n",
              "      border: none;\n",
              "      border-radius: 50%;\n",
              "      cursor: pointer;\n",
              "      display: none;\n",
              "      fill: #1967D2;\n",
              "      height: 32px;\n",
              "      padding: 0 0 0 0;\n",
              "      width: 32px;\n",
              "    }\n",
              "\n",
              "    .colab-df-convert:hover {\n",
              "      background-color: #E2EBFA;\n",
              "      box-shadow: 0px 1px 2px rgba(60, 64, 67, 0.3), 0px 1px 3px 1px rgba(60, 64, 67, 0.15);\n",
              "      fill: #174EA6;\n",
              "    }\n",
              "\n",
              "    [theme=dark] .colab-df-convert {\n",
              "      background-color: #3B4455;\n",
              "      fill: #D2E3FC;\n",
              "    }\n",
              "\n",
              "    [theme=dark] .colab-df-convert:hover {\n",
              "      background-color: #434B5C;\n",
              "      box-shadow: 0px 1px 3px 1px rgba(0, 0, 0, 0.15);\n",
              "      filter: drop-shadow(0px 1px 2px rgba(0, 0, 0, 0.3));\n",
              "      fill: #FFFFFF;\n",
              "    }\n",
              "  </style>\n",
              "\n",
              "      <script>\n",
              "        const buttonEl =\n",
              "          document.querySelector('#df-6c1dea8e-24b7-4156-8d99-35900fe27ac1 button.colab-df-convert');\n",
              "        buttonEl.style.display =\n",
              "          google.colab.kernel.accessAllowed ? 'block' : 'none';\n",
              "\n",
              "        async function convertToInteractive(key) {\n",
              "          const element = document.querySelector('#df-6c1dea8e-24b7-4156-8d99-35900fe27ac1');\n",
              "          const dataTable =\n",
              "            await google.colab.kernel.invokeFunction('convertToInteractive',\n",
              "                                                     [key], {});\n",
              "          if (!dataTable) return;\n",
              "\n",
              "          const docLinkHtml = 'Like what you see? Visit the ' +\n",
              "            '<a target=\"_blank\" href=https://colab.research.google.com/notebooks/data_table.ipynb>data table notebook</a>'\n",
              "            + ' to learn more about interactive tables.';\n",
              "          element.innerHTML = '';\n",
              "          dataTable['output_type'] = 'display_data';\n",
              "          await google.colab.output.renderOutput(dataTable, element);\n",
              "          const docLink = document.createElement('div');\n",
              "          docLink.innerHTML = docLinkHtml;\n",
              "          element.appendChild(docLink);\n",
              "        }\n",
              "      </script>\n",
              "    </div>\n",
              "  </div>\n",
              "  "
            ],
            "text/plain": [
              "landing_page  new_page  old_page\n",
              "group                           \n",
              "control           1928    145274\n",
              "treatment       145311      1965"
            ]
          },
          "metadata": {},
          "execution_count": 10
        }
      ]
    },
    {
      "cell_type": "markdown",
      "metadata": {
        "id": "KV9tmT9L7gfh"
      },
      "source": [
        "For the rows where treatment is not aligned with new_page or control is not aligned with old_page, we cannot be sure if this row truly received the new or old page. "
      ]
    },
    {
      "cell_type": "code",
      "metadata": {
        "colab": {
          "base_uri": "https://localhost:8080/"
        },
        "id": "qec-EDTo7vt6",
        "outputId": "036e5b4a-9907-497a-91fc-d1f9edc09b8c"
      },
      "source": [
        "# To make sure all the control group are seeing the old page \n",
        "df_old = df[df['group'] == 'control'][df['landing_page'] == 'old_page']"
      ],
      "execution_count": null,
      "outputs": [
        {
          "output_type": "stream",
          "name": "stderr",
          "text": [
            "/usr/local/lib/python3.7/dist-packages/ipykernel_launcher.py:2: UserWarning: Boolean Series key will be reindexed to match DataFrame index.\n",
            "  \n"
          ]
        }
      ]
    },
    {
      "cell_type": "code",
      "metadata": {
        "colab": {
          "base_uri": "https://localhost:8080/"
        },
        "id": "p99u1O696hIf",
        "outputId": "53c074d0-5df6-4c99-f860-e9e51e6b7ef1"
      },
      "source": [
        "# To make sure all the treatment group are seeing the new page \n",
        "df_new = df[df['group'] == 'treatment'][df['landing_page'] == 'new_page']"
      ],
      "execution_count": null,
      "outputs": [
        {
          "output_type": "stream",
          "name": "stderr",
          "text": [
            "/usr/local/lib/python3.7/dist-packages/ipykernel_launcher.py:2: UserWarning: Boolean Series key will be reindexed to match DataFrame index.\n",
            "  \n"
          ]
        }
      ]
    },
    {
      "cell_type": "code",
      "metadata": {
        "id": "qqGprMii92I2"
      },
      "source": [
        "# Create a new dataset \n",
        "df = pd.concat([df_old, df_new])"
      ],
      "execution_count": null,
      "outputs": []
    },
    {
      "cell_type": "code",
      "metadata": {
        "colab": {
          "base_uri": "https://localhost:8080/",
          "height": 204
        },
        "id": "pDYZZ9_o6A9G",
        "outputId": "3112cab0-eb10-4af4-879a-df45f62eba08"
      },
      "source": [
        "df.tail()"
      ],
      "execution_count": null,
      "outputs": [
        {
          "output_type": "execute_result",
          "data": {
            "text/html": [
              "<div>\n",
              "<style scoped>\n",
              "    .dataframe tbody tr th:only-of-type {\n",
              "        vertical-align: middle;\n",
              "    }\n",
              "\n",
              "    .dataframe tbody tr th {\n",
              "        vertical-align: top;\n",
              "    }\n",
              "\n",
              "    .dataframe thead th {\n",
              "        text-align: right;\n",
              "    }\n",
              "</style>\n",
              "<table border=\"1\" class=\"dataframe\">\n",
              "  <thead>\n",
              "    <tr style=\"text-align: right;\">\n",
              "      <th></th>\n",
              "      <th>user_id</th>\n",
              "      <th>timestamp</th>\n",
              "      <th>group</th>\n",
              "      <th>landing_page</th>\n",
              "      <th>converted</th>\n",
              "    </tr>\n",
              "  </thead>\n",
              "  <tbody>\n",
              "    <tr>\n",
              "      <th>294462</th>\n",
              "      <td>677163</td>\n",
              "      <td>2017-01-03 19:41:51.902148</td>\n",
              "      <td>treatment</td>\n",
              "      <td>new_page</td>\n",
              "      <td>0</td>\n",
              "    </tr>\n",
              "    <tr>\n",
              "      <th>294465</th>\n",
              "      <td>925675</td>\n",
              "      <td>2017-01-07 20:38:26.346410</td>\n",
              "      <td>treatment</td>\n",
              "      <td>new_page</td>\n",
              "      <td>0</td>\n",
              "    </tr>\n",
              "    <tr>\n",
              "      <th>294468</th>\n",
              "      <td>643562</td>\n",
              "      <td>2017-01-02 19:20:05.460595</td>\n",
              "      <td>treatment</td>\n",
              "      <td>new_page</td>\n",
              "      <td>0</td>\n",
              "    </tr>\n",
              "    <tr>\n",
              "      <th>294472</th>\n",
              "      <td>822004</td>\n",
              "      <td>2017-01-04 03:36:46.071379</td>\n",
              "      <td>treatment</td>\n",
              "      <td>new_page</td>\n",
              "      <td>0</td>\n",
              "    </tr>\n",
              "    <tr>\n",
              "      <th>294477</th>\n",
              "      <td>715931</td>\n",
              "      <td>2017-01-16 12:40:24.467417</td>\n",
              "      <td>treatment</td>\n",
              "      <td>new_page</td>\n",
              "      <td>0</td>\n",
              "    </tr>\n",
              "  </tbody>\n",
              "</table>\n",
              "</div>"
            ],
            "text/plain": [
              "        user_id                   timestamp      group landing_page  converted\n",
              "294462   677163  2017-01-03 19:41:51.902148  treatment     new_page          0\n",
              "294465   925675  2017-01-07 20:38:26.346410  treatment     new_page          0\n",
              "294468   643562  2017-01-02 19:20:05.460595  treatment     new_page          0\n",
              "294472   822004  2017-01-04 03:36:46.071379  treatment     new_page          0\n",
              "294477   715931  2017-01-16 12:40:24.467417  treatment     new_page          0"
            ]
          },
          "metadata": {},
          "execution_count": 358
        }
      ]
    },
    {
      "cell_type": "code",
      "metadata": {
        "colab": {
          "base_uri": "https://localhost:8080/"
        },
        "id": "yJ5QuTLzgQX6",
        "outputId": "01385c60-a6ab-4484-c284-f13a7990d42c"
      },
      "source": [
        "# The number of the unique user\n",
        "df['user_id'].nunique()"
      ],
      "execution_count": null,
      "outputs": [
        {
          "output_type": "execute_result",
          "data": {
            "text/plain": [
              "290584"
            ]
          },
          "metadata": {},
          "execution_count": 359
        }
      ]
    },
    {
      "cell_type": "code",
      "metadata": {
        "colab": {
          "base_uri": "https://localhost:8080/"
        },
        "id": "5neAzpD3AMYw",
        "outputId": "e311f66f-de9a-4a30-ef46-dd6f1c13d1db"
      },
      "source": [
        "len(df.index)"
      ],
      "execution_count": null,
      "outputs": [
        {
          "output_type": "execute_result",
          "data": {
            "text/plain": [
              "290585"
            ]
          },
          "metadata": {},
          "execution_count": 360
        }
      ]
    },
    {
      "cell_type": "markdown",
      "metadata": {
        "id": "4KoGIs6KgjHE"
      },
      "source": [
        "There is one user_id repeated in df."
      ]
    },
    {
      "cell_type": "code",
      "metadata": {
        "id": "e0UuAjgf5FDc"
      },
      "source": [
        "duplicates = df[df.duplicated(['user_id'], keep = False)]"
      ],
      "execution_count": null,
      "outputs": []
    },
    {
      "cell_type": "code",
      "metadata": {
        "colab": {
          "base_uri": "https://localhost:8080/",
          "height": 111
        },
        "id": "cJh5KDir567K",
        "outputId": "1259d3d8-0668-4caf-b94b-9d948c637283"
      },
      "source": [
        "duplicates.sort_values(['user_id'], ascending = False) "
      ],
      "execution_count": null,
      "outputs": [
        {
          "output_type": "execute_result",
          "data": {
            "text/html": [
              "<div>\n",
              "<style scoped>\n",
              "    .dataframe tbody tr th:only-of-type {\n",
              "        vertical-align: middle;\n",
              "    }\n",
              "\n",
              "    .dataframe tbody tr th {\n",
              "        vertical-align: top;\n",
              "    }\n",
              "\n",
              "    .dataframe thead th {\n",
              "        text-align: right;\n",
              "    }\n",
              "</style>\n",
              "<table border=\"1\" class=\"dataframe\">\n",
              "  <thead>\n",
              "    <tr style=\"text-align: right;\">\n",
              "      <th></th>\n",
              "      <th>user_id</th>\n",
              "      <th>timestamp</th>\n",
              "      <th>group</th>\n",
              "      <th>landing_page</th>\n",
              "      <th>converted</th>\n",
              "    </tr>\n",
              "  </thead>\n",
              "  <tbody>\n",
              "    <tr>\n",
              "      <th>1899</th>\n",
              "      <td>773192</td>\n",
              "      <td>2017-01-09 05:37:58.781806</td>\n",
              "      <td>treatment</td>\n",
              "      <td>new_page</td>\n",
              "      <td>0</td>\n",
              "    </tr>\n",
              "    <tr>\n",
              "      <th>2893</th>\n",
              "      <td>773192</td>\n",
              "      <td>2017-01-14 02:55:59.590927</td>\n",
              "      <td>treatment</td>\n",
              "      <td>new_page</td>\n",
              "      <td>0</td>\n",
              "    </tr>\n",
              "  </tbody>\n",
              "</table>\n",
              "</div>"
            ],
            "text/plain": [
              "      user_id                   timestamp      group landing_page  converted\n",
              "1899   773192  2017-01-09 05:37:58.781806  treatment     new_page          0\n",
              "2893   773192  2017-01-14 02:55:59.590927  treatment     new_page          0"
            ]
          },
          "metadata": {},
          "execution_count": 362
        }
      ]
    },
    {
      "cell_type": "code",
      "metadata": {
        "id": "mRQRaubuCSfn"
      },
      "source": [
        "# Remove one of the rows with a duplicate user_id\n",
        "df.drop_duplicates(subset = 'user_id', keep = 'first', inplace = True)"
      ],
      "execution_count": null,
      "outputs": []
    },
    {
      "cell_type": "code",
      "metadata": {
        "colab": {
          "base_uri": "https://localhost:8080/"
        },
        "id": "kuRt8PeCa0XS",
        "outputId": "5d4710e9-84fb-48bd-ad9e-91e0d8d841a6"
      },
      "source": [
        "df['user_id'].nunique()"
      ],
      "execution_count": null,
      "outputs": [
        {
          "output_type": "execute_result",
          "data": {
            "text/plain": [
              "290584"
            ]
          },
          "metadata": {},
          "execution_count": 364
        }
      ]
    },
    {
      "cell_type": "code",
      "metadata": {
        "colab": {
          "base_uri": "https://localhost:8080/"
        },
        "id": "z0Uxon3Qaqng",
        "outputId": "1e19df11-fd57-4990-883a-14ff24f6fbd7"
      },
      "source": [
        "len(df.index)"
      ],
      "execution_count": null,
      "outputs": [
        {
          "output_type": "execute_result",
          "data": {
            "text/plain": [
              "290584"
            ]
          },
          "metadata": {},
          "execution_count": 365
        }
      ]
    },
    {
      "cell_type": "code",
      "metadata": {
        "id": "tdrxg7sqAkAz"
      },
      "source": [
        "import scipy.stats as stats"
      ],
      "execution_count": null,
      "outputs": []
    },
    {
      "cell_type": "code",
      "metadata": {
        "colab": {
          "base_uri": "https://localhost:8080/"
        },
        "id": "oNQZRQ9EjJu7",
        "outputId": "029dce95-6fd0-49f8-bd56-20672cc51c56"
      },
      "source": [
        "# What is the probability of an individual converting regardless of the page they receive?\n",
        "df['converted'].mean()"
      ],
      "execution_count": null,
      "outputs": [
        {
          "output_type": "execute_result",
          "data": {
            "text/plain": [
              "0.11959708724499628"
            ]
          },
          "metadata": {},
          "execution_count": 367
        }
      ]
    },
    {
      "cell_type": "code",
      "metadata": {
        "colab": {
          "base_uri": "https://localhost:8080/"
        },
        "id": "csrB4z_6juzt",
        "outputId": "d3c22927-c1a9-47ea-84f6-a051cf666867"
      },
      "source": [
        "# Given that an individual was in the control group, what is the probability they converted?\n",
        "df[df['group'] == 'control']['converted'].mean()"
      ],
      "execution_count": null,
      "outputs": [
        {
          "output_type": "execute_result",
          "data": {
            "text/plain": [
              "0.1203863045004612"
            ]
          },
          "metadata": {},
          "execution_count": 368
        }
      ]
    },
    {
      "cell_type": "code",
      "metadata": {
        "colab": {
          "base_uri": "https://localhost:8080/"
        },
        "id": "KWR4hbkDjUjF",
        "outputId": "7a1c0860-47d5-4c56-883f-4405803e69d2"
      },
      "source": [
        "# Given that an individual was in the treatment group, what is the probability they converted?\n",
        "df[df['group'] == 'treatment']['converted'].mean()"
      ],
      "execution_count": null,
      "outputs": [
        {
          "output_type": "execute_result",
          "data": {
            "text/plain": [
              "0.11880806551510564"
            ]
          },
          "metadata": {},
          "execution_count": 369
        }
      ]
    },
    {
      "cell_type": "markdown",
      "metadata": {
        "id": "NNXk3uA0BOB2"
      },
      "source": [
        "There is no suffient evidence to support the statement that one page leads to more conversions. For the reason that the converted rate of the treatment group is approximately 11.9% while the converted rate of the control group is approximately 12.0%. We can see the two results are pretty close to each other, we can not make a conclusion that the treatment group take effect or vice versa. In order to make that conclution, we need to make further experiments such as A/B testing."
      ]
    },
    {
      "cell_type": "markdown",
      "metadata": {
        "id": "iubHoezHAQRU"
      },
      "source": [
        "**Choosing a sample size**"
      ]
    },
    {
      "cell_type": "markdown",
      "metadata": {
        "id": "mvj1m3jH5ta5"
      },
      "source": [
        "Having a required sample size is one of the important cornerstones of a successful A/B test and is dependant on 3 factors:\n",
        "\n",
        "* **Statistical power** (usually 1 − β = 0.8): The ability of the experiment to correctly identify a positive change, given that there is indeed one.\n",
        "\n",
        "* **Significant level** (α = 0.05): The probability of wrongly identifying a positive change, when there is actually none.\n",
        "\n",
        "* **Minimum detectable effect** (MDE, or 𝐷𝑚𝑖𝑛): The minimum change that the business would like to detect in this test."
      ]
    },
    {
      "cell_type": "markdown",
      "metadata": {
        "id": "7Fegbnuoug2q"
      },
      "source": [
        "The A/B test can begin to go bad when a sample size is not calculated before the A/B test, or 'peeking' at your results before the total number of observations is less than your minimum sample size and concluding prematurely when you think you've achieved a positive result. Usually if an A/B test is running and there aren't enough users to match the required sample size, the 3 factors would have to be adjusted to lower the minimium sample size."
      ]
    },
    {
      "cell_type": "markdown",
      "metadata": {
        "id": "O5TWY-fxRfAj"
      },
      "source": [
        "One evaluation metric we want to define will be the increase in conversions. For this metric, we want to define 𝐷𝑚𝑖𝑛: the minimum change which is practically significant to the business. In this case, the practical minimum difference would be the 0.35%, closely related to our business objectives of increasing our current conversion rates of 12% by 0.35%. Therefore, we'll set 𝐷𝑚𝑖𝑛 = 0.0035.\n",
        "\n",
        "\n",
        "\n",
        "This online calculator does a great job of calculating sample size: https://www.evanmiller.org/ab-testing/sample-size.html\n",
        "\n",
        "However, we're going to manually calculate the required sample size using the Evan Miller's Calculator:\n"
      ]
    },
    {
      "cell_type": "code",
      "metadata": {
        "id": "eH9GuUEksHJn"
      },
      "source": [
        "import scipy.stats as ss\n",
        "import math"
      ],
      "execution_count": null,
      "outputs": []
    },
    {
      "cell_type": "code",
      "metadata": {
        "id": "z0zOK7GZs0py"
      },
      "source": [
        "# Function for getting z-scores for alpha\n",
        "def get_z_score(alpha):\n",
        "    \n",
        "    return ss.norm.ppf(alpha)"
      ],
      "execution_count": null,
      "outputs": []
    },
    {
      "cell_type": "code",
      "metadata": {
        "id": "RSnhYigs_jbD"
      },
      "source": [
        "# Calculating the minimum sample size for the a/b test\n",
        "def get_sample_size(sds, alpha, beta, d):\n",
        "    \n",
        "    n = pow((get_z_score(1 - alpha / 2) * sds[0] + get_z_score(1 - beta) * sds[1]), 2) / pow(d, 2)\n",
        "    \n",
        "    return n"
      ],
      "execution_count": null,
      "outputs": []
    },
    {
      "cell_type": "code",
      "metadata": {
        "id": "T6z6KNvJqStt"
      },
      "source": [
        "# Baseline + Expected change standard deviation calculations\n",
        "def get_sds(p, d):\n",
        "    \n",
        "    sd1 = math.sqrt(2 * p * (1 - p))\n",
        "    sd2 = math.sqrt(p * (1 - p) + (p + d) * (1 - (p + d)))\n",
        "    sds = [sd1, sd2]\n",
        "    \n",
        "    return sds"
      ],
      "execution_count": null,
      "outputs": []
    },
    {
      "cell_type": "code",
      "metadata": {
        "colab": {
          "base_uri": "https://localhost:8080/"
        },
        "id": "KaZEXr-xqth1",
        "outputId": "6f5567bc-dd8f-48c9-8805-13740258600e"
      },
      "source": [
        "# Using Evan Miller's Calculator but deriving the values ourselves\n",
        "round(get_sample_size(get_sds(0.12, 0.0035), 0.05, 0.2, 0.0035))"
      ],
      "execution_count": null,
      "outputs": [
        {
          "output_type": "execute_result",
          "data": {
            "text/plain": [
              "135830"
            ]
          },
          "metadata": {},
          "execution_count": 374
        }
      ]
    },
    {
      "cell_type": "markdown",
      "metadata": {
        "id": "-rp7xEORywgY"
      },
      "source": [
        "When using Evan Miller's calculator, the minimum sample size per per variation = 135,830. Given we have 2 variations (control and treatment): the total minimum sample size = 271,660. Since we have a total sample size of 290,584, our A/B test will have enough statistical power and significance."
      ]
    },
    {
      "cell_type": "markdown",
      "metadata": {
        "id": "N3b4xqQ80fdM"
      },
      "source": [
        "**Testing the hypothesis**"
      ]
    },
    {
      "cell_type": "markdown",
      "metadata": {
        "id": "NoGu76wg0bLF"
      },
      "source": [
        "We can use existing packages to calculate our test statistic and p-values and test for proportions based on the z-test. "
      ]
    },
    {
      "cell_type": "code",
      "metadata": {
        "id": "J9ddUSKhruRk"
      },
      "source": [
        "from statsmodels.stats.proportion import proportions_ztest"
      ],
      "execution_count": null,
      "outputs": []
    },
    {
      "cell_type": "code",
      "metadata": {
        "colab": {
          "base_uri": "https://localhost:8080/"
        },
        "id": "Gvjx_ytxKLgW",
        "outputId": "2eae819f-f71b-417d-fa19-d7432c2d9e7f"
      },
      "source": [
        "# The number of successes in nobs trials\n",
        "converted_old = len(df[df.landing_page == 'old_page'][df.converted == 1])"
      ],
      "execution_count": null,
      "outputs": [
        {
          "output_type": "stream",
          "name": "stderr",
          "text": [
            "/usr/local/lib/python3.7/dist-packages/ipykernel_launcher.py:2: UserWarning: Boolean Series key will be reindexed to match DataFrame index.\n",
            "  \n"
          ]
        }
      ]
    },
    {
      "cell_type": "code",
      "metadata": {
        "colab": {
          "base_uri": "https://localhost:8080/"
        },
        "id": "Mp_6NR9NKOaQ",
        "outputId": "081543de-1b90-4cae-e4a1-46022322f910"
      },
      "source": [
        "converted_new = len(df[df.landing_page == 'new_page'][df.converted == 1])"
      ],
      "execution_count": null,
      "outputs": [
        {
          "output_type": "stream",
          "name": "stderr",
          "text": [
            "/usr/local/lib/python3.7/dist-packages/ipykernel_launcher.py:1: UserWarning: Boolean Series key will be reindexed to match DataFrame index.\n",
            "  \"\"\"Entry point for launching an IPython kernel.\n"
          ]
        }
      ]
    },
    {
      "cell_type": "code",
      "metadata": {
        "id": "DtJa4PgWJpny"
      },
      "source": [
        "# The number of trials or observations\n",
        "n_old = len(df[df.landing_page == 'old_page'])"
      ],
      "execution_count": null,
      "outputs": []
    },
    {
      "cell_type": "code",
      "metadata": {
        "id": "WlIhDubDJzAG"
      },
      "source": [
        "n_new = len(df[df.landing_page == 'new_page'])"
      ],
      "execution_count": null,
      "outputs": []
    },
    {
      "cell_type": "code",
      "metadata": {
        "id": "P8rrLkSFKvnR"
      },
      "source": [
        "import statsmodels.api as sm\n",
        "from statsmodels.stats.proportion import proportions_ztest"
      ],
      "execution_count": null,
      "outputs": []
    },
    {
      "cell_type": "code",
      "metadata": {
        "id": "vVyuLL-NkwnU"
      },
      "source": [
        "# Conducting the z test\n",
        "stat, p_val = sm.stats.proportions_ztest([converted_old, converted_new], [n_old, n_new], alternative = 'smaller')"
      ],
      "execution_count": null,
      "outputs": []
    },
    {
      "cell_type": "code",
      "metadata": {
        "colab": {
          "base_uri": "https://localhost:8080/"
        },
        "id": "ObbHOP6Lkx5W",
        "outputId": "a14d5bb2-91d0-4aa8-b6db-4d36308ae13b"
      },
      "source": [
        "# Test statistic for the z-test\n",
        "stat"
      ],
      "execution_count": null,
      "outputs": [
        {
          "output_type": "execute_result",
          "data": {
            "text/plain": [
              "1.3109241984234394"
            ]
          },
          "metadata": {},
          "execution_count": 382
        }
      ]
    },
    {
      "cell_type": "code",
      "metadata": {
        "colab": {
          "base_uri": "https://localhost:8080/"
        },
        "id": "64FHj3cK0NPc",
        "outputId": "82327c70-7530-40d0-df37-b2f2717b3c52"
      },
      "source": [
        "# P-value for the z-test\n",
        "p_val"
      ],
      "execution_count": null,
      "outputs": [
        {
          "output_type": "execute_result",
          "data": {
            "text/plain": [
              "0.9050583127590245"
            ]
          },
          "metadata": {},
          "execution_count": 383
        }
      ]
    },
    {
      "cell_type": "markdown",
      "metadata": {
        "id": "5Fe0cdzu2bCE"
      },
      "source": [
        "**Drawing conclusions**"
      ]
    },
    {
      "cell_type": "markdown",
      "metadata": {
        "id": "h6nxkWr3Xswi"
      },
      "source": [
        "Since our **p-value = 0.905 is way above our α = 0.05** threshold, we cannot reject the null hypothesis, which means that **our new design did not perform significantly different (let alone better) than our old one**.\n"
      ]
    }
  ]
}